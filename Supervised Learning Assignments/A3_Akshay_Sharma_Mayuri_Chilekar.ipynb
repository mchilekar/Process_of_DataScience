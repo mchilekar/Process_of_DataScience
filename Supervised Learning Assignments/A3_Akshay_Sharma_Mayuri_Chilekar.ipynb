{
  "nbformat": 4,
  "nbformat_minor": 0,
  "metadata": {
    "colab": {
      "provenance": []
    },
    "kernelspec": {
      "name": "python3",
      "display_name": "Python 3"
    }
  },
  "cells": [
    {
      "cell_type": "markdown",
      "metadata": {
        "id": "3swiValoUu5U"
      },
      "source": [
        "<h1><center>CSCI - 6409 - The Process of Data Science - Fall 2022</h1></center>\n",
        "<h1><center>Assignment 3</h1></center>\n",
        "\n",
        "<b>Akshay Sharma</b>  \n",
        "B00925863  \n",
        "\n",
        "\n",
        "<b>Mayuri Chilekar</b>  \n",
        "B00925385  "
      ]
    },
    {
      "cell_type": "markdown",
      "metadata": {
        "id": "dm4068tkVkZ4"
      },
      "source": [
        "### 1. Task 1<a id='top'></a>\n",
        "\n",
        "#### Data Preparation"
      ]
    },
    {
      "cell_type": "markdown",
      "metadata": {
        "id": "XGz8x8dX_RGt"
      },
      "source": [
        "#### a. Build the data quality report and the data quality plan."
      ]
    },
    {
      "cell_type": "code",
      "metadata": {
        "id": "Q8Ab3w8m_XQ6"
      },
      "source": [
        "#importing data and requisite libraries\n",
        "import pandas as pd\n",
        "import numpy as np\n",
        "from sklearn.datasets import fetch_openml\n",
        "import matplotlib.pyplot as plt\n",
        "import seaborn as sns\n",
        "from scipy.io import arff\n",
        "from google.colab import drive\n",
        "from sklearn.preprocessing import StandardScaler  # to standardize the features\n",
        "from sklearn.decomposition import PCA  # to apply PCA\n",
        "import matplotlib as plt\n",
        "from sklearn.metrics import confusion_matrix\n",
        "from sklearn.model_selection import GridSearchCV\n",
        "from sklearn.metrics import classification_report\n",
        "from sklearn.metrics import f1_score\n",
        "import math\n",
        "from textwrap import wrap\n",
        "import warnings\n",
        "from sklearn.model_selection import train_test_split, learning_curve, ShuffleSplit\n",
        "from sklearn.metrics import classification_report\n",
        "from sklearn.preprocessing import OrdinalEncoder\n",
        "from sklearn.feature_selection import SelectKBest, mutual_info_classif\n",
        "from sklearn.model_selection import learning_curve, validation_curve\n",
        "from sklearn.tree import DecisionTreeClassifier, plot_tree\n",
        "from sklearn.ensemble import BaggingClassifier\n",
        "from sklearn.ensemble import AdaBoostClassifier\n",
        "from sklearn.linear_model import LogisticRegression\n",
        "import matplotlib.pyplot as plt\n",
        "from sklearn.metrics import mean_squared_error"
      ],
      "execution_count": 25,
      "outputs": []
    },
    {
      "cell_type": "code",
      "source": [
        "data = drive.mount('/content/drive')\n",
        "data = arff.loadarff('/content/drive/MyDrive/Dalhousie_MDI/process_of_ds/assignment_3/phpKo8OWT.arff')\n",
        "df = pd.DataFrame(data[0])"
      ],
      "metadata": {
        "colab": {
          "base_uri": "https://localhost:8080/"
        },
        "id": "ptyRXYqdyYY0",
        "outputId": "482d15d7-8621-46da-c0b1-4474d668627f"
      },
      "execution_count": 2,
      "outputs": [
        {
          "output_type": "stream",
          "name": "stdout",
          "text": [
            "Mounted at /content/drive\n"
          ]
        }
      ]
    },
    {
      "cell_type": "code",
      "source": [
        "print(df.head(10)) #Exploring Data\n",
        "print(df.iloc[0]) # Viewing first row of our dataset"
      ],
      "metadata": {
        "colab": {
          "base_uri": "https://localhost:8080/"
        },
        "id": "_75bPD0myYS0",
        "outputId": "20c4abaf-dbf5-4594-dfed-1994489cffe7"
      },
      "execution_count": 3,
      "outputs": [
        {
          "output_type": "stream",
          "name": "stdout",
          "text": [
            "   Time        V1        V2        V3        V4        V5        V6        V7  \\\n",
            "0   0.0 -1.359807 -0.072781  2.536347  1.378155 -0.338321  0.462388  0.239599   \n",
            "1   0.0  1.191857  0.266151  0.166480  0.448154  0.060018 -0.082361 -0.078803   \n",
            "2   1.0 -1.358354 -1.340163  1.773209  0.379780 -0.503198  1.800499  0.791461   \n",
            "3   1.0 -0.966272 -0.185226  1.792993 -0.863291 -0.010309  1.247203  0.237609   \n",
            "4   2.0 -1.158233  0.877737  1.548718  0.403034 -0.407193  0.095921  0.592941   \n",
            "5   2.0 -0.425966  0.960523  1.141109 -0.168252  0.420987 -0.029728  0.476201   \n",
            "6   4.0  1.229658  0.141004  0.045371  1.202613  0.191881  0.272708 -0.005159   \n",
            "7   7.0 -0.644269  1.417964  1.074380 -0.492199  0.948934  0.428118  1.120631   \n",
            "8   7.0 -0.894286  0.286157 -0.113192 -0.271526  2.669599  3.721818  0.370145   \n",
            "9   9.0 -0.338262  1.119593  1.044367 -0.222187  0.499361 -0.246761  0.651583   \n",
            "\n",
            "         V8        V9  ...       V21       V22       V23       V24       V25  \\\n",
            "0  0.098698  0.363787  ... -0.018307  0.277838 -0.110474  0.066928  0.128539   \n",
            "1  0.085102 -0.255425  ... -0.225775 -0.638672  0.101288 -0.339846  0.167170   \n",
            "2  0.247676 -1.514654  ...  0.247998  0.771679  0.909412 -0.689281 -0.327642   \n",
            "3  0.377436 -1.387024  ... -0.108300  0.005274 -0.190321 -1.175575  0.647376   \n",
            "4 -0.270533  0.817739  ... -0.009431  0.798278 -0.137458  0.141267 -0.206010   \n",
            "5  0.260314 -0.568671  ... -0.208254 -0.559825 -0.026398 -0.371427 -0.232794   \n",
            "6  0.081213  0.464960  ... -0.167716 -0.270710 -0.154104 -0.780055  0.750137   \n",
            "7 -3.807864  0.615375  ...  1.943465 -1.015455  0.057504 -0.649709 -0.415267   \n",
            "8  0.851084 -0.392048  ... -0.073425 -0.268092 -0.204233  1.011592  0.373205   \n",
            "9  0.069539 -0.736727  ... -0.246914 -0.633753 -0.120794 -0.385050 -0.069733   \n",
            "\n",
            "        V26       V27       V28  Amount  Class  \n",
            "0 -0.189115  0.133558 -0.021053  149.62   b'0'  \n",
            "1  0.125895 -0.008983  0.014724    2.69   b'0'  \n",
            "2 -0.139097 -0.055353 -0.059752  378.66   b'0'  \n",
            "3 -0.221929  0.062723  0.061458  123.50   b'0'  \n",
            "4  0.502292  0.219422  0.215153   69.99   b'0'  \n",
            "5  0.105915  0.253844  0.081080    3.67   b'0'  \n",
            "6 -0.257237  0.034507  0.005168    4.99   b'0'  \n",
            "7 -0.051634 -1.206921 -1.085339   40.80   b'0'  \n",
            "8 -0.384157  0.011747  0.142404   93.20   b'0'  \n",
            "9  0.094199  0.246219  0.083076    3.68   b'0'  \n",
            "\n",
            "[10 rows x 31 columns]\n",
            "Time           0.0\n",
            "V1       -1.359807\n",
            "V2       -0.072781\n",
            "V3        2.536347\n",
            "V4        1.378155\n",
            "V5       -0.338321\n",
            "V6        0.462388\n",
            "V7        0.239599\n",
            "V8        0.098698\n",
            "V9        0.363787\n",
            "V10       0.090794\n",
            "V11        -0.5516\n",
            "V12      -0.617801\n",
            "V13       -0.99139\n",
            "V14      -0.311169\n",
            "V15       1.468177\n",
            "V16      -0.470401\n",
            "V17       0.207971\n",
            "V18       0.025791\n",
            "V19       0.403993\n",
            "V20       0.251412\n",
            "V21      -0.018307\n",
            "V22       0.277838\n",
            "V23      -0.110474\n",
            "V24       0.066928\n",
            "V25       0.128539\n",
            "V26      -0.189115\n",
            "V27       0.133558\n",
            "V28      -0.021053\n",
            "Amount      149.62\n",
            "Class         b'0'\n",
            "Name: 0, dtype: object\n"
          ]
        }
      ]
    },
    {
      "cell_type": "code",
      "source": [
        "#Checking dataframe info to check for null values and data types\n",
        "print(df.info())"
      ],
      "metadata": {
        "colab": {
          "base_uri": "https://localhost:8080/"
        },
        "id": "0U4geYroyYQQ",
        "outputId": "89dd8c49-c5be-4dce-f31e-00a95cf47562"
      },
      "execution_count": 4,
      "outputs": [
        {
          "output_type": "stream",
          "name": "stdout",
          "text": [
            "<class 'pandas.core.frame.DataFrame'>\n",
            "RangeIndex: 284807 entries, 0 to 284806\n",
            "Data columns (total 31 columns):\n",
            " #   Column  Non-Null Count   Dtype  \n",
            "---  ------  --------------   -----  \n",
            " 0   Time    284807 non-null  float64\n",
            " 1   V1      284807 non-null  float64\n",
            " 2   V2      284807 non-null  float64\n",
            " 3   V3      284807 non-null  float64\n",
            " 4   V4      284807 non-null  float64\n",
            " 5   V5      284807 non-null  float64\n",
            " 6   V6      284807 non-null  float64\n",
            " 7   V7      284807 non-null  float64\n",
            " 8   V8      284807 non-null  float64\n",
            " 9   V9      284807 non-null  float64\n",
            " 10  V10     284807 non-null  float64\n",
            " 11  V11     284807 non-null  float64\n",
            " 12  V12     284807 non-null  float64\n",
            " 13  V13     284807 non-null  float64\n",
            " 14  V14     284807 non-null  float64\n",
            " 15  V15     284807 non-null  float64\n",
            " 16  V16     284807 non-null  float64\n",
            " 17  V17     284807 non-null  float64\n",
            " 18  V18     284807 non-null  float64\n",
            " 19  V19     284807 non-null  float64\n",
            " 20  V20     284807 non-null  float64\n",
            " 21  V21     284807 non-null  float64\n",
            " 22  V22     284807 non-null  float64\n",
            " 23  V23     284807 non-null  float64\n",
            " 24  V24     284807 non-null  float64\n",
            " 25  V25     284807 non-null  float64\n",
            " 26  V26     284807 non-null  float64\n",
            " 27  V27     284807 non-null  float64\n",
            " 28  V28     284807 non-null  float64\n",
            " 29  Amount  284807 non-null  float64\n",
            " 30  Class   284807 non-null  object \n",
            "dtypes: float64(30), object(1)\n",
            "memory usage: 67.4+ MB\n",
            "None\n"
          ]
        }
      ]
    },
    {
      "cell_type": "markdown",
      "source": [
        "#### Datatype for all of the columns seem to be correct, so we dont need to convert dtype for this dataframe."
      ],
      "metadata": {
        "id": "GnohQq3tzAVw"
      }
    },
    {
      "cell_type": "markdown",
      "source": [
        "#### Data Quality Report - Checking our data for missing values, outliers etc."
      ],
      "metadata": {
        "id": "X1AFac7f3y0d"
      }
    },
    {
      "cell_type": "code",
      "source": [
        "df.describe()"
      ],
      "metadata": {
        "colab": {
          "base_uri": "https://localhost:8080/",
          "height": 394
        },
        "id": "tAffEJF4yYN-",
        "outputId": "c612aa1f-7293-45c4-d42a-44a0f25ff58a"
      },
      "execution_count": 5,
      "outputs": [
        {
          "output_type": "execute_result",
          "data": {
            "text/plain": [
              "                Time            V1            V2            V3            V4  \\\n",
              "count  284807.000000  2.848070e+05  2.848070e+05  2.848070e+05  2.848070e+05   \n",
              "mean    94813.859575  1.168375e-15  3.416908e-16 -1.379537e-15  2.074095e-15   \n",
              "std     47488.145955  1.958696e+00  1.651309e+00  1.516255e+00  1.415869e+00   \n",
              "min         0.000000 -5.640751e+01 -7.271573e+01 -4.832559e+01 -5.683171e+00   \n",
              "25%     54201.500000 -9.203734e-01 -5.985499e-01 -8.903648e-01 -8.486401e-01   \n",
              "50%     84692.000000  1.810880e-02  6.548556e-02  1.798463e-01 -1.984653e-02   \n",
              "75%    139320.500000  1.315642e+00  8.037239e-01  1.027196e+00  7.433413e-01   \n",
              "max    172792.000000  2.454930e+00  2.205773e+01  9.382558e+00  1.687534e+01   \n",
              "\n",
              "                 V5            V6            V7            V8            V9  \\\n",
              "count  2.848070e+05  2.848070e+05  2.848070e+05  2.848070e+05  2.848070e+05   \n",
              "mean   9.604066e-16  1.487313e-15 -5.556467e-16  1.205498e-16 -2.406306e-15   \n",
              "std    1.380247e+00  1.332271e+00  1.237094e+00  1.194353e+00  1.098632e+00   \n",
              "min   -1.137433e+02 -2.616051e+01 -4.355724e+01 -7.321672e+01 -1.343407e+01   \n",
              "25%   -6.915971e-01 -7.682956e-01 -5.540759e-01 -2.086297e-01 -6.430976e-01   \n",
              "50%   -5.433583e-02 -2.741871e-01  4.010308e-02  2.235804e-02 -5.142873e-02   \n",
              "75%    6.119264e-01  3.985649e-01  5.704361e-01  3.273459e-01  5.971390e-01   \n",
              "max    3.480167e+01  7.330163e+01  1.205895e+02  2.000721e+01  1.559499e+01   \n",
              "\n",
              "       ...           V20           V21           V22           V23  \\\n",
              "count  ...  2.848070e+05  2.848070e+05  2.848070e+05  2.848070e+05   \n",
              "mean   ...  6.407202e-16  1.656562e-16 -3.568593e-16  2.610582e-16   \n",
              "std    ...  7.709250e-01  7.345240e-01  7.257016e-01  6.244603e-01   \n",
              "min    ... -5.449772e+01 -3.483038e+01 -1.093314e+01 -4.480774e+01   \n",
              "25%    ... -2.117214e-01 -2.283949e-01 -5.423504e-01 -1.618463e-01   \n",
              "50%    ... -6.248109e-02 -2.945017e-02  6.781943e-03 -1.119293e-02   \n",
              "75%    ...  1.330408e-01  1.863772e-01  5.285536e-01  1.476421e-01   \n",
              "max    ...  3.942090e+01  2.720284e+01  1.050309e+01  2.252841e+01   \n",
              "\n",
              "                V24           V25           V26           V27           V28  \\\n",
              "count  2.848070e+05  2.848070e+05  2.848070e+05  2.848070e+05  2.848070e+05   \n",
              "mean   4.473066e-15  5.213180e-16  1.683537e-15 -3.659966e-16 -1.223710e-16   \n",
              "std    6.056471e-01  5.212781e-01  4.822270e-01  4.036325e-01  3.300833e-01   \n",
              "min   -2.836627e+00 -1.029540e+01 -2.604551e+00 -2.256568e+01 -1.543008e+01   \n",
              "25%   -3.545861e-01 -3.171451e-01 -3.269839e-01 -7.083953e-02 -5.295979e-02   \n",
              "50%    4.097606e-02  1.659350e-02 -5.213911e-02  1.342146e-03  1.124383e-02   \n",
              "75%    4.395266e-01  3.507156e-01  2.409522e-01  9.104512e-02  7.827995e-02   \n",
              "max    4.584549e+00  7.519589e+00  3.517346e+00  3.161220e+01  3.384781e+01   \n",
              "\n",
              "              Amount  \n",
              "count  284807.000000  \n",
              "mean       88.349619  \n",
              "std       250.120109  \n",
              "min         0.000000  \n",
              "25%         5.600000  \n",
              "50%        22.000000  \n",
              "75%        77.165000  \n",
              "max     25691.160000  \n",
              "\n",
              "[8 rows x 30 columns]"
            ],
            "text/html": [
              "\n",
              "  <div id=\"df-43d6e1ab-9e96-49f8-9e63-b69a19f08865\">\n",
              "    <div class=\"colab-df-container\">\n",
              "      <div>\n",
              "<style scoped>\n",
              "    .dataframe tbody tr th:only-of-type {\n",
              "        vertical-align: middle;\n",
              "    }\n",
              "\n",
              "    .dataframe tbody tr th {\n",
              "        vertical-align: top;\n",
              "    }\n",
              "\n",
              "    .dataframe thead th {\n",
              "        text-align: right;\n",
              "    }\n",
              "</style>\n",
              "<table border=\"1\" class=\"dataframe\">\n",
              "  <thead>\n",
              "    <tr style=\"text-align: right;\">\n",
              "      <th></th>\n",
              "      <th>Time</th>\n",
              "      <th>V1</th>\n",
              "      <th>V2</th>\n",
              "      <th>V3</th>\n",
              "      <th>V4</th>\n",
              "      <th>V5</th>\n",
              "      <th>V6</th>\n",
              "      <th>V7</th>\n",
              "      <th>V8</th>\n",
              "      <th>V9</th>\n",
              "      <th>...</th>\n",
              "      <th>V20</th>\n",
              "      <th>V21</th>\n",
              "      <th>V22</th>\n",
              "      <th>V23</th>\n",
              "      <th>V24</th>\n",
              "      <th>V25</th>\n",
              "      <th>V26</th>\n",
              "      <th>V27</th>\n",
              "      <th>V28</th>\n",
              "      <th>Amount</th>\n",
              "    </tr>\n",
              "  </thead>\n",
              "  <tbody>\n",
              "    <tr>\n",
              "      <th>count</th>\n",
              "      <td>284807.000000</td>\n",
              "      <td>2.848070e+05</td>\n",
              "      <td>2.848070e+05</td>\n",
              "      <td>2.848070e+05</td>\n",
              "      <td>2.848070e+05</td>\n",
              "      <td>2.848070e+05</td>\n",
              "      <td>2.848070e+05</td>\n",
              "      <td>2.848070e+05</td>\n",
              "      <td>2.848070e+05</td>\n",
              "      <td>2.848070e+05</td>\n",
              "      <td>...</td>\n",
              "      <td>2.848070e+05</td>\n",
              "      <td>2.848070e+05</td>\n",
              "      <td>2.848070e+05</td>\n",
              "      <td>2.848070e+05</td>\n",
              "      <td>2.848070e+05</td>\n",
              "      <td>2.848070e+05</td>\n",
              "      <td>2.848070e+05</td>\n",
              "      <td>2.848070e+05</td>\n",
              "      <td>2.848070e+05</td>\n",
              "      <td>284807.000000</td>\n",
              "    </tr>\n",
              "    <tr>\n",
              "      <th>mean</th>\n",
              "      <td>94813.859575</td>\n",
              "      <td>1.168375e-15</td>\n",
              "      <td>3.416908e-16</td>\n",
              "      <td>-1.379537e-15</td>\n",
              "      <td>2.074095e-15</td>\n",
              "      <td>9.604066e-16</td>\n",
              "      <td>1.487313e-15</td>\n",
              "      <td>-5.556467e-16</td>\n",
              "      <td>1.205498e-16</td>\n",
              "      <td>-2.406306e-15</td>\n",
              "      <td>...</td>\n",
              "      <td>6.407202e-16</td>\n",
              "      <td>1.656562e-16</td>\n",
              "      <td>-3.568593e-16</td>\n",
              "      <td>2.610582e-16</td>\n",
              "      <td>4.473066e-15</td>\n",
              "      <td>5.213180e-16</td>\n",
              "      <td>1.683537e-15</td>\n",
              "      <td>-3.659966e-16</td>\n",
              "      <td>-1.223710e-16</td>\n",
              "      <td>88.349619</td>\n",
              "    </tr>\n",
              "    <tr>\n",
              "      <th>std</th>\n",
              "      <td>47488.145955</td>\n",
              "      <td>1.958696e+00</td>\n",
              "      <td>1.651309e+00</td>\n",
              "      <td>1.516255e+00</td>\n",
              "      <td>1.415869e+00</td>\n",
              "      <td>1.380247e+00</td>\n",
              "      <td>1.332271e+00</td>\n",
              "      <td>1.237094e+00</td>\n",
              "      <td>1.194353e+00</td>\n",
              "      <td>1.098632e+00</td>\n",
              "      <td>...</td>\n",
              "      <td>7.709250e-01</td>\n",
              "      <td>7.345240e-01</td>\n",
              "      <td>7.257016e-01</td>\n",
              "      <td>6.244603e-01</td>\n",
              "      <td>6.056471e-01</td>\n",
              "      <td>5.212781e-01</td>\n",
              "      <td>4.822270e-01</td>\n",
              "      <td>4.036325e-01</td>\n",
              "      <td>3.300833e-01</td>\n",
              "      <td>250.120109</td>\n",
              "    </tr>\n",
              "    <tr>\n",
              "      <th>min</th>\n",
              "      <td>0.000000</td>\n",
              "      <td>-5.640751e+01</td>\n",
              "      <td>-7.271573e+01</td>\n",
              "      <td>-4.832559e+01</td>\n",
              "      <td>-5.683171e+00</td>\n",
              "      <td>-1.137433e+02</td>\n",
              "      <td>-2.616051e+01</td>\n",
              "      <td>-4.355724e+01</td>\n",
              "      <td>-7.321672e+01</td>\n",
              "      <td>-1.343407e+01</td>\n",
              "      <td>...</td>\n",
              "      <td>-5.449772e+01</td>\n",
              "      <td>-3.483038e+01</td>\n",
              "      <td>-1.093314e+01</td>\n",
              "      <td>-4.480774e+01</td>\n",
              "      <td>-2.836627e+00</td>\n",
              "      <td>-1.029540e+01</td>\n",
              "      <td>-2.604551e+00</td>\n",
              "      <td>-2.256568e+01</td>\n",
              "      <td>-1.543008e+01</td>\n",
              "      <td>0.000000</td>\n",
              "    </tr>\n",
              "    <tr>\n",
              "      <th>25%</th>\n",
              "      <td>54201.500000</td>\n",
              "      <td>-9.203734e-01</td>\n",
              "      <td>-5.985499e-01</td>\n",
              "      <td>-8.903648e-01</td>\n",
              "      <td>-8.486401e-01</td>\n",
              "      <td>-6.915971e-01</td>\n",
              "      <td>-7.682956e-01</td>\n",
              "      <td>-5.540759e-01</td>\n",
              "      <td>-2.086297e-01</td>\n",
              "      <td>-6.430976e-01</td>\n",
              "      <td>...</td>\n",
              "      <td>-2.117214e-01</td>\n",
              "      <td>-2.283949e-01</td>\n",
              "      <td>-5.423504e-01</td>\n",
              "      <td>-1.618463e-01</td>\n",
              "      <td>-3.545861e-01</td>\n",
              "      <td>-3.171451e-01</td>\n",
              "      <td>-3.269839e-01</td>\n",
              "      <td>-7.083953e-02</td>\n",
              "      <td>-5.295979e-02</td>\n",
              "      <td>5.600000</td>\n",
              "    </tr>\n",
              "    <tr>\n",
              "      <th>50%</th>\n",
              "      <td>84692.000000</td>\n",
              "      <td>1.810880e-02</td>\n",
              "      <td>6.548556e-02</td>\n",
              "      <td>1.798463e-01</td>\n",
              "      <td>-1.984653e-02</td>\n",
              "      <td>-5.433583e-02</td>\n",
              "      <td>-2.741871e-01</td>\n",
              "      <td>4.010308e-02</td>\n",
              "      <td>2.235804e-02</td>\n",
              "      <td>-5.142873e-02</td>\n",
              "      <td>...</td>\n",
              "      <td>-6.248109e-02</td>\n",
              "      <td>-2.945017e-02</td>\n",
              "      <td>6.781943e-03</td>\n",
              "      <td>-1.119293e-02</td>\n",
              "      <td>4.097606e-02</td>\n",
              "      <td>1.659350e-02</td>\n",
              "      <td>-5.213911e-02</td>\n",
              "      <td>1.342146e-03</td>\n",
              "      <td>1.124383e-02</td>\n",
              "      <td>22.000000</td>\n",
              "    </tr>\n",
              "    <tr>\n",
              "      <th>75%</th>\n",
              "      <td>139320.500000</td>\n",
              "      <td>1.315642e+00</td>\n",
              "      <td>8.037239e-01</td>\n",
              "      <td>1.027196e+00</td>\n",
              "      <td>7.433413e-01</td>\n",
              "      <td>6.119264e-01</td>\n",
              "      <td>3.985649e-01</td>\n",
              "      <td>5.704361e-01</td>\n",
              "      <td>3.273459e-01</td>\n",
              "      <td>5.971390e-01</td>\n",
              "      <td>...</td>\n",
              "      <td>1.330408e-01</td>\n",
              "      <td>1.863772e-01</td>\n",
              "      <td>5.285536e-01</td>\n",
              "      <td>1.476421e-01</td>\n",
              "      <td>4.395266e-01</td>\n",
              "      <td>3.507156e-01</td>\n",
              "      <td>2.409522e-01</td>\n",
              "      <td>9.104512e-02</td>\n",
              "      <td>7.827995e-02</td>\n",
              "      <td>77.165000</td>\n",
              "    </tr>\n",
              "    <tr>\n",
              "      <th>max</th>\n",
              "      <td>172792.000000</td>\n",
              "      <td>2.454930e+00</td>\n",
              "      <td>2.205773e+01</td>\n",
              "      <td>9.382558e+00</td>\n",
              "      <td>1.687534e+01</td>\n",
              "      <td>3.480167e+01</td>\n",
              "      <td>7.330163e+01</td>\n",
              "      <td>1.205895e+02</td>\n",
              "      <td>2.000721e+01</td>\n",
              "      <td>1.559499e+01</td>\n",
              "      <td>...</td>\n",
              "      <td>3.942090e+01</td>\n",
              "      <td>2.720284e+01</td>\n",
              "      <td>1.050309e+01</td>\n",
              "      <td>2.252841e+01</td>\n",
              "      <td>4.584549e+00</td>\n",
              "      <td>7.519589e+00</td>\n",
              "      <td>3.517346e+00</td>\n",
              "      <td>3.161220e+01</td>\n",
              "      <td>3.384781e+01</td>\n",
              "      <td>25691.160000</td>\n",
              "    </tr>\n",
              "  </tbody>\n",
              "</table>\n",
              "<p>8 rows × 30 columns</p>\n",
              "</div>\n",
              "      <button class=\"colab-df-convert\" onclick=\"convertToInteractive('df-43d6e1ab-9e96-49f8-9e63-b69a19f08865')\"\n",
              "              title=\"Convert this dataframe to an interactive table.\"\n",
              "              style=\"display:none;\">\n",
              "        \n",
              "  <svg xmlns=\"http://www.w3.org/2000/svg\" height=\"24px\"viewBox=\"0 0 24 24\"\n",
              "       width=\"24px\">\n",
              "    <path d=\"M0 0h24v24H0V0z\" fill=\"none\"/>\n",
              "    <path d=\"M18.56 5.44l.94 2.06.94-2.06 2.06-.94-2.06-.94-.94-2.06-.94 2.06-2.06.94zm-11 1L8.5 8.5l.94-2.06 2.06-.94-2.06-.94L8.5 2.5l-.94 2.06-2.06.94zm10 10l.94 2.06.94-2.06 2.06-.94-2.06-.94-.94-2.06-.94 2.06-2.06.94z\"/><path d=\"M17.41 7.96l-1.37-1.37c-.4-.4-.92-.59-1.43-.59-.52 0-1.04.2-1.43.59L10.3 9.45l-7.72 7.72c-.78.78-.78 2.05 0 2.83L4 21.41c.39.39.9.59 1.41.59.51 0 1.02-.2 1.41-.59l7.78-7.78 2.81-2.81c.8-.78.8-2.07 0-2.86zM5.41 20L4 18.59l7.72-7.72 1.47 1.35L5.41 20z\"/>\n",
              "  </svg>\n",
              "      </button>\n",
              "      \n",
              "  <style>\n",
              "    .colab-df-container {\n",
              "      display:flex;\n",
              "      flex-wrap:wrap;\n",
              "      gap: 12px;\n",
              "    }\n",
              "\n",
              "    .colab-df-convert {\n",
              "      background-color: #E8F0FE;\n",
              "      border: none;\n",
              "      border-radius: 50%;\n",
              "      cursor: pointer;\n",
              "      display: none;\n",
              "      fill: #1967D2;\n",
              "      height: 32px;\n",
              "      padding: 0 0 0 0;\n",
              "      width: 32px;\n",
              "    }\n",
              "\n",
              "    .colab-df-convert:hover {\n",
              "      background-color: #E2EBFA;\n",
              "      box-shadow: 0px 1px 2px rgba(60, 64, 67, 0.3), 0px 1px 3px 1px rgba(60, 64, 67, 0.15);\n",
              "      fill: #174EA6;\n",
              "    }\n",
              "\n",
              "    [theme=dark] .colab-df-convert {\n",
              "      background-color: #3B4455;\n",
              "      fill: #D2E3FC;\n",
              "    }\n",
              "\n",
              "    [theme=dark] .colab-df-convert:hover {\n",
              "      background-color: #434B5C;\n",
              "      box-shadow: 0px 1px 3px 1px rgba(0, 0, 0, 0.15);\n",
              "      filter: drop-shadow(0px 1px 2px rgba(0, 0, 0, 0.3));\n",
              "      fill: #FFFFFF;\n",
              "    }\n",
              "  </style>\n",
              "\n",
              "      <script>\n",
              "        const buttonEl =\n",
              "          document.querySelector('#df-43d6e1ab-9e96-49f8-9e63-b69a19f08865 button.colab-df-convert');\n",
              "        buttonEl.style.display =\n",
              "          google.colab.kernel.accessAllowed ? 'block' : 'none';\n",
              "\n",
              "        async function convertToInteractive(key) {\n",
              "          const element = document.querySelector('#df-43d6e1ab-9e96-49f8-9e63-b69a19f08865');\n",
              "          const dataTable =\n",
              "            await google.colab.kernel.invokeFunction('convertToInteractive',\n",
              "                                                     [key], {});\n",
              "          if (!dataTable) return;\n",
              "\n",
              "          const docLinkHtml = 'Like what you see? Visit the ' +\n",
              "            '<a target=\"_blank\" href=https://colab.research.google.com/notebooks/data_table.ipynb>data table notebook</a>'\n",
              "            + ' to learn more about interactive tables.';\n",
              "          element.innerHTML = '';\n",
              "          dataTable['output_type'] = 'display_data';\n",
              "          await google.colab.output.renderOutput(dataTable, element);\n",
              "          const docLink = document.createElement('div');\n",
              "          docLink.innerHTML = docLinkHtml;\n",
              "          element.appendChild(docLink);\n",
              "        }\n",
              "      </script>\n",
              "    </div>\n",
              "  </div>\n",
              "  "
            ]
          },
          "metadata": {},
          "execution_count": 5
        }
      ]
    },
    {
      "cell_type": "code",
      "source": [
        "df.info()"
      ],
      "metadata": {
        "colab": {
          "base_uri": "https://localhost:8080/"
        },
        "id": "G9tQs5YqyYLs",
        "outputId": "0e8617f7-98bf-491d-d16f-b8bd33730e5c"
      },
      "execution_count": 6,
      "outputs": [
        {
          "output_type": "stream",
          "name": "stdout",
          "text": [
            "<class 'pandas.core.frame.DataFrame'>\n",
            "RangeIndex: 284807 entries, 0 to 284806\n",
            "Data columns (total 31 columns):\n",
            " #   Column  Non-Null Count   Dtype  \n",
            "---  ------  --------------   -----  \n",
            " 0   Time    284807 non-null  float64\n",
            " 1   V1      284807 non-null  float64\n",
            " 2   V2      284807 non-null  float64\n",
            " 3   V3      284807 non-null  float64\n",
            " 4   V4      284807 non-null  float64\n",
            " 5   V5      284807 non-null  float64\n",
            " 6   V6      284807 non-null  float64\n",
            " 7   V7      284807 non-null  float64\n",
            " 8   V8      284807 non-null  float64\n",
            " 9   V9      284807 non-null  float64\n",
            " 10  V10     284807 non-null  float64\n",
            " 11  V11     284807 non-null  float64\n",
            " 12  V12     284807 non-null  float64\n",
            " 13  V13     284807 non-null  float64\n",
            " 14  V14     284807 non-null  float64\n",
            " 15  V15     284807 non-null  float64\n",
            " 16  V16     284807 non-null  float64\n",
            " 17  V17     284807 non-null  float64\n",
            " 18  V18     284807 non-null  float64\n",
            " 19  V19     284807 non-null  float64\n",
            " 20  V20     284807 non-null  float64\n",
            " 21  V21     284807 non-null  float64\n",
            " 22  V22     284807 non-null  float64\n",
            " 23  V23     284807 non-null  float64\n",
            " 24  V24     284807 non-null  float64\n",
            " 25  V25     284807 non-null  float64\n",
            " 26  V26     284807 non-null  float64\n",
            " 27  V27     284807 non-null  float64\n",
            " 28  V28     284807 non-null  float64\n",
            " 29  Amount  284807 non-null  float64\n",
            " 30  Class   284807 non-null  object \n",
            "dtypes: float64(30), object(1)\n",
            "memory usage: 67.4+ MB\n"
          ]
        }
      ]
    },
    {
      "cell_type": "code",
      "source": [
        "# Checking cardinality and class imbalance of our target feature\n",
        "card_target=len(df[\"Class\"].unique())\n",
        "print(card_target)\n",
        "print(df[[\"Class\"]].value_counts())"
      ],
      "metadata": {
        "colab": {
          "base_uri": "https://localhost:8080/"
        },
        "id": "E9o0MmvY4_jc",
        "outputId": "b370a329-91e1-4b29-c91b-924bce7ed5c0"
      },
      "execution_count": 7,
      "outputs": [
        {
          "output_type": "stream",
          "name": "stdout",
          "text": [
            "2\n",
            "Class\n",
            "b'0'     284315\n",
            "b'1'        492\n",
            "dtype: int64\n"
          ]
        }
      ]
    },
    {
      "cell_type": "markdown",
      "source": [
        "##### Since all our features are continious, we dont need to check for cardinaltiy for this feature set and they dont have null values or missing values as well so we will now inspect our dataframe for only outliers value with the help of Boxplot"
      ],
      "metadata": {
        "id": "aYJy8Cu_44ST"
      }
    },
    {
      "cell_type": "code",
      "source": [
        "#Plotting Boxplot for every feature\n",
        "import matplotlib.pyplot as plt\n",
        "plt.figure(figsize=(40,20))\n",
        "ax=sns.boxplot(data=df[['V1', 'V2', 'V3', 'V4', 'V5', 'V6', 'V7', 'V8', 'V9', 'V10',\n",
        "       'V11', 'V12', 'V13', 'V14', 'V15', 'V16', 'V17', 'V18', 'V19', 'V20',\n",
        "       'V21', 'V22', 'V23', 'V24', 'V25', 'V26', 'V27', 'V28']],palette=\"Blues\",saturation=0.75, width=0.3, dodge=True,linewidth=None, whis=1)\n",
        "ax.set(title=\"Box Plot\",xlabel=\"Features\")\n",
        "plt.show()"
      ],
      "metadata": {
        "colab": {
          "base_uri": "https://localhost:8080/",
          "height": 922
        },
        "id": "HIn0lko8yYJm",
        "outputId": "220d0066-bbd7-4fde-eabc-bb64b0ce9ff4"
      },
      "execution_count": 8,
      "outputs": [
        {
          "output_type": "display_data",
          "data": {
            "text/plain": [
              "<Figure size 2880x1440 with 1 Axes>"
            ],
            "image/png": "[encoded data removed]"
          },
          "metadata": {
            "needs_background": "light"
          }
        }
      ]
    },
    {
      "cell_type": "markdown",
      "source": [
        "##### We could observe outliers in almost all of features, and since we have enough datapoints available, we will now begin with preprocessing of our data"
      ],
      "metadata": {
        "id": "wqXzWenB5-A6"
      }
    },
    {
      "cell_type": "markdown",
      "source": [
        "#### b. Preprocess your data according to the data quality plan.\n",
        "##### Since almost each of the feature has outliers, so removing them would result in deleting many examples of the dataset, so instead of removing the outliers value, we would cap the outliers value i.e replace them with the upper and lower threshold. This would help us to solve the problem of outliers as well as not reduce the no of examples from our dataset."
      ],
      "metadata": {
        "id": "R38sCqpW6lIq"
      }
    },
    {
      "cell_type": "code",
      "source": [
        " # Capping values at 0.01 and 0.99 percentile values\n",
        " def remove_outliers(df):\n",
        "    for i in df.columns:\n",
        "        if df[i].dtype==\"float64\":\n",
        "            percentile = df[i].quantile([0.01,0.99]).values\n",
        "            df[i][df[i] <= percentile[0]] = percentile[0]\n",
        "            df[i][df[i] >= percentile[1]] = percentile[1]\n",
        "        else:\n",
        "            df[i]=df[i]\n",
        "    return df"
      ],
      "metadata": {
        "id": "doQwddcAyYHO"
      },
      "execution_count": 9,
      "outputs": []
    },
    {
      "cell_type": "code",
      "source": [
        "final_df=remove_outliers(df)"
      ],
      "metadata": {
        "colab": {
          "base_uri": "https://localhost:8080/"
        },
        "id": "NQJ3XbM7yYE0",
        "outputId": "87db8fe4-bce3-46c3-cbfe-32723df87cd4"
      },
      "execution_count": 10,
      "outputs": [
        {
          "output_type": "stream",
          "name": "stderr",
          "text": [
            "/usr/local/lib/python3.7/dist-packages/ipykernel_launcher.py:6: SettingWithCopyWarning: \n",
            "A value is trying to be set on a copy of a slice from a DataFrame\n",
            "\n",
            "See the caveats in the documentation: https://pandas.pydata.org/pandas-docs/stable/user_guide/indexing.html#returning-a-view-versus-a-copy\n",
            "  \n",
            "/usr/local/lib/python3.7/dist-packages/ipykernel_launcher.py:7: SettingWithCopyWarning: \n",
            "A value is trying to be set on a copy of a slice from a DataFrame\n",
            "\n",
            "See the caveats in the documentation: https://pandas.pydata.org/pandas-docs/stable/user_guide/indexing.html#returning-a-view-versus-a-copy\n",
            "  import sys\n"
          ]
        }
      ]
    },
    {
      "cell_type": "code",
      "source": [
        "import matplotlib.pyplot as plt\n",
        "plt.figure(figsize=(40,20))\n",
        "ax=sns.boxplot(data=final_df[['V1', 'V2', 'V3', 'V4', 'V5', 'V6', 'V7', 'V8', 'V9', 'V10',\n",
        "       'V11', 'V12', 'V13', 'V14', 'V15', 'V16', 'V17', 'V18', 'V19', 'V20',\n",
        "       'V21', 'V22', 'V23', 'V24', 'V25', 'V26', 'V27', 'V28']],palette=\"Blues\",saturation=0.75, width=0.3, dodge=True,linewidth=None, whis=1)\n",
        "ax.set(title=\"Box Plot\",xlabel=\"Features\")\n",
        "plt.show()"
      ],
      "metadata": {
        "colab": {
          "base_uri": "https://localhost:8080/",
          "height": 927
        },
        "id": "u86Z_w8oyYCf",
        "outputId": "96b22b9c-072c-47e8-a605-fcd9564874e8"
      },
      "execution_count": 11,
      "outputs": [
        {
          "output_type": "display_data",
          "data": {
            "text/plain": [
              "<Figure size 2880x1440 with 1 Axes>"
            ],
            "image/png": "[encoded data removed]"
          },
          "metadata": {
            "needs_background": "light"
          }
        }
      ]
    },
    {
      "cell_type": "markdown",
      "source": [
        "##### We could observe from the boxplot that most of the outliers have been treated. Now we will try to reduce the dimensionality of dataset."
      ],
      "metadata": {
        "id": "dFMySVUf7iFn"
      }
    },
    {
      "cell_type": "code",
      "source": [
        "import matplotlib.pyplot as plt\n",
        "plt.figure(figsize=(10,10))\n",
        "ax=sns.heatmap(final_df.corr())\n",
        "plt.title(\"Correlation_Heatmap for Features\")\n",
        "plt.show()"
      ],
      "metadata": {
        "colab": {
          "base_uri": "https://localhost:8080/",
          "height": 637
        },
        "id": "q9vzDbEw9PB_",
        "outputId": "617ed483-f302-49e9-b627-96f6ed170e36"
      },
      "execution_count": 12,
      "outputs": [
        {
          "output_type": "display_data",
          "data": {
            "text/plain": [
              "<Figure size 720x720 with 2 Axes>"
            ],
            "image/png": "[encoded data removed]"
          },
          "metadata": {
            "needs_background": "light"
          }
        }
      ]
    },
    {
      "cell_type": "markdown",
      "source": [
        "#### We can observe from the heatmap there's not much correlation between the variables, so we cant use corelation method for removing redundant variables"
      ],
      "metadata": {
        "id": "WT38znkJ-MC-"
      }
    },
    {
      "cell_type": "markdown",
      "source": [
        "#### Now checking if we could reduce the dimensions using dimensionality reduction algorithm which would be helpful while modelling. We are using PCA for reducing the dimensions"
      ],
      "metadata": {
        "id": "X9ykMbUb8Hry"
      }
    },
    {
      "cell_type": "code",
      "source": [
        "# Standardizing our dataset to implement PCA"
      ],
      "metadata": {
        "id": "SJTBYhq7yX_8"
      },
      "execution_count": 13,
      "outputs": []
    },
    {
      "cell_type": "code",
      "source": [
        "scaler=StandardScaler()\n",
        "scaled_df=pd.DataFrame(scaler.fit_transform(final_df[['Time', 'V1', 'V2', 'V3', 'V4', 'V5', 'V6', 'V7', 'V8', 'V9', 'V10',\n",
        "       'V11', 'V12', 'V13', 'V14', 'V15', 'V16', 'V17', 'V18', 'V19', 'V20',\n",
        "       'V21', 'V22', 'V23', 'V24', 'V25', 'V26', 'V27', 'V28', 'Amount']]))\n",
        "scaled_df[\"Class\"]=final_df[\"Class\"]\n",
        "scaled_df[\"Class\"].replace([b'0', b'1'],[0,1],inplace=True)\n",
        "scaled_df.columns=final_df.columns"
      ],
      "metadata": {
        "id": "JRe6_gEMyX9b"
      },
      "execution_count": 14,
      "outputs": []
    },
    {
      "cell_type": "code",
      "source": [
        "scaled_df"
      ],
      "metadata": {
        "colab": {
          "base_uri": "https://localhost:8080/",
          "height": 424
        },
        "id": "MB52HZRWBCcJ",
        "outputId": "3a7550b4-0531-4fee-d024-f638f7d08d0a"
      },
      "execution_count": 15,
      "outputs": [
        {
          "output_type": "execute_result",
          "data": {
            "text/plain": [
              "            Time        V1        V2        V3        V4        V5        V6  \\\n",
              "0      -1.947371 -0.816417 -0.074815  1.834585  1.008393 -0.306239  0.370539   \n",
              "1      -1.947371  0.673774  0.190841  0.105462  0.329733  0.046279 -0.069783   \n",
              "2      -1.947371 -0.815569 -1.068195  1.277778  0.279837 -0.452150  1.452139   \n",
              "3      -1.947371 -0.586590 -0.162950  1.292213 -0.627283 -0.015958  1.004908   \n",
              "4      -1.947371 -0.698697  0.670205  1.113982  0.296807 -0.367189  0.074323   \n",
              "...          ...       ...       ...       ...       ...       ...       ...   \n",
              "284802  1.596447 -3.855238  2.962109 -2.918746 -1.505428 -2.715190 -1.720065   \n",
              "284803  1.596447 -0.450234 -0.060941  1.468809 -0.536282  0.761521  0.852310   \n",
              "284804  1.596447  1.098761 -0.253893 -2.387038 -0.404374  2.321088  2.446966   \n",
              "284805  1.596447 -0.162699  0.398026  0.496565  0.506071 -0.341319  0.500934   \n",
              "284806  1.596447 -0.333797 -0.166483  0.497168 -0.366751 -0.017938 -0.528298   \n",
              "\n",
              "              V7        V8        V9  ...       V21       V22       V23  \\\n",
              "0       0.259049  0.099889  0.357948  ... -0.027990  0.397405 -0.327714   \n",
              "1      -0.091214  0.081936 -0.239122  ... -0.525587 -0.924637  0.282347   \n",
              "2       0.866134  0.296599 -1.453325  ...  0.610722  1.109759  2.610457   \n",
              "3       0.256860  0.467933 -1.330258  ... -0.243833  0.004238 -0.557742   \n",
              "4       0.647749 -0.387641  0.795668  ... -0.006701  1.148127 -0.405452   \n",
              "...          ...       ...       ...  ...       ...       ...       ...   \n",
              "284802 -3.318860  2.710673  1.853143  ...  0.527871  0.157992  2.913145   \n",
              "284803  0.022238  0.358912  0.571058  ...  0.529673  1.330031  0.026453   \n",
              "284804 -0.331055  0.904959  0.424160  ...  0.572460  0.830712 -0.117487   \n",
              "284805 -0.759370  0.866309  0.385236  ...  0.652087  1.150681 -0.479893   \n",
              "284806  1.730287 -0.577934  0.475964  ...  0.642043  0.924255  1.075998   \n",
              "\n",
              "             V24       V25       V26       V27       V28    Amount  Class  \n",
              "0       0.112830  0.257756 -0.399909  0.476562 -0.109728  0.435869      0  \n",
              "1      -0.569106  0.336090  0.273976 -0.043398  0.081169 -0.486573      0  \n",
              "2      -1.154914 -0.667267 -0.292907 -0.212544 -0.316213  1.873805      0  \n",
              "3      -1.970160  1.309828 -0.470106  0.218170  0.330525  0.271885      0  \n",
              "4       0.237455 -0.420627  1.079186  0.789775  1.150599 -0.064056      0  \n",
              "...          ...       ...       ...       ...       ...       ...    ...  \n",
              "284802 -0.853267  2.438433  0.539542  3.386769  2.889895 -0.498627      0  \n",
              "284803 -1.703019 -1.232974 -0.840895  0.239143 -0.283001 -0.347827      0  \n",
              "284804  1.073779  0.535976 -0.182252  0.005621 -0.139115 -0.077303      0  \n",
              "284805  0.207176 -1.157004  1.174118  0.386325  0.560362 -0.440680      0  \n",
              "284806  0.015377 -0.963333 -1.745824 -0.019440  0.075432  0.858887      0  \n",
              "\n",
              "[284807 rows x 31 columns]"
            ],
            "text/html": [
              "\n",
              "  <div id=\"df-aa3e8f71-b43d-4356-a231-b002878ac855\">\n",
              "    <div class=\"colab-df-container\">\n",
              "      <div>\n",
              "<style scoped>\n",
              "    .dataframe tbody tr th:only-of-type {\n",
              "        vertical-align: middle;\n",
              "    }\n",
              "\n",
              "    .dataframe tbody tr th {\n",
              "        vertical-align: top;\n",
              "    }\n",
              "\n",
              "    .dataframe thead th {\n",
              "        text-align: right;\n",
              "    }\n",
              "</style>\n",
              "<table border=\"1\" class=\"dataframe\">\n",
              "  <thead>\n",
              "    <tr style=\"text-align: right;\">\n",
              "      <th></th>\n",
              "      <th>Time</th>\n",
              "      <th>V1</th>\n",
              "      <th>V2</th>\n",
              "      <th>V3</th>\n",
              "      <th>V4</th>\n",
              "      <th>V5</th>\n",
              "      <th>V6</th>\n",
              "      <th>V7</th>\n",
              "      <th>V8</th>\n",
              "      <th>V9</th>\n",
              "      <th>...</th>\n",
              "      <th>V21</th>\n",
              "      <th>V22</th>\n",
              "      <th>V23</th>\n",
              "      <th>V24</th>\n",
              "      <th>V25</th>\n",
              "      <th>V26</th>\n",
              "      <th>V27</th>\n",
              "      <th>V28</th>\n",
              "      <th>Amount</th>\n",
              "      <th>Class</th>\n",
              "    </tr>\n",
              "  </thead>\n",
              "  <tbody>\n",
              "    <tr>\n",
              "      <th>0</th>\n",
              "      <td>-1.947371</td>\n",
              "      <td>-0.816417</td>\n",
              "      <td>-0.074815</td>\n",
              "      <td>1.834585</td>\n",
              "      <td>1.008393</td>\n",
              "      <td>-0.306239</td>\n",
              "      <td>0.370539</td>\n",
              "      <td>0.259049</td>\n",
              "      <td>0.099889</td>\n",
              "      <td>0.357948</td>\n",
              "      <td>...</td>\n",
              "      <td>-0.027990</td>\n",
              "      <td>0.397405</td>\n",
              "      <td>-0.327714</td>\n",
              "      <td>0.112830</td>\n",
              "      <td>0.257756</td>\n",
              "      <td>-0.399909</td>\n",
              "      <td>0.476562</td>\n",
              "      <td>-0.109728</td>\n",
              "      <td>0.435869</td>\n",
              "      <td>0</td>\n",
              "    </tr>\n",
              "    <tr>\n",
              "      <th>1</th>\n",
              "      <td>-1.947371</td>\n",
              "      <td>0.673774</td>\n",
              "      <td>0.190841</td>\n",
              "      <td>0.105462</td>\n",
              "      <td>0.329733</td>\n",
              "      <td>0.046279</td>\n",
              "      <td>-0.069783</td>\n",
              "      <td>-0.091214</td>\n",
              "      <td>0.081936</td>\n",
              "      <td>-0.239122</td>\n",
              "      <td>...</td>\n",
              "      <td>-0.525587</td>\n",
              "      <td>-0.924637</td>\n",
              "      <td>0.282347</td>\n",
              "      <td>-0.569106</td>\n",
              "      <td>0.336090</td>\n",
              "      <td>0.273976</td>\n",
              "      <td>-0.043398</td>\n",
              "      <td>0.081169</td>\n",
              "      <td>-0.486573</td>\n",
              "      <td>0</td>\n",
              "    </tr>\n",
              "    <tr>\n",
              "      <th>2</th>\n",
              "      <td>-1.947371</td>\n",
              "      <td>-0.815569</td>\n",
              "      <td>-1.068195</td>\n",
              "      <td>1.277778</td>\n",
              "      <td>0.279837</td>\n",
              "      <td>-0.452150</td>\n",
              "      <td>1.452139</td>\n",
              "      <td>0.866134</td>\n",
              "      <td>0.296599</td>\n",
              "      <td>-1.453325</td>\n",
              "      <td>...</td>\n",
              "      <td>0.610722</td>\n",
              "      <td>1.109759</td>\n",
              "      <td>2.610457</td>\n",
              "      <td>-1.154914</td>\n",
              "      <td>-0.667267</td>\n",
              "      <td>-0.292907</td>\n",
              "      <td>-0.212544</td>\n",
              "      <td>-0.316213</td>\n",
              "      <td>1.873805</td>\n",
              "      <td>0</td>\n",
              "    </tr>\n",
              "    <tr>\n",
              "      <th>3</th>\n",
              "      <td>-1.947371</td>\n",
              "      <td>-0.586590</td>\n",
              "      <td>-0.162950</td>\n",
              "      <td>1.292213</td>\n",
              "      <td>-0.627283</td>\n",
              "      <td>-0.015958</td>\n",
              "      <td>1.004908</td>\n",
              "      <td>0.256860</td>\n",
              "      <td>0.467933</td>\n",
              "      <td>-1.330258</td>\n",
              "      <td>...</td>\n",
              "      <td>-0.243833</td>\n",
              "      <td>0.004238</td>\n",
              "      <td>-0.557742</td>\n",
              "      <td>-1.970160</td>\n",
              "      <td>1.309828</td>\n",
              "      <td>-0.470106</td>\n",
              "      <td>0.218170</td>\n",
              "      <td>0.330525</td>\n",
              "      <td>0.271885</td>\n",
              "      <td>0</td>\n",
              "    </tr>\n",
              "    <tr>\n",
              "      <th>4</th>\n",
              "      <td>-1.947371</td>\n",
              "      <td>-0.698697</td>\n",
              "      <td>0.670205</td>\n",
              "      <td>1.113982</td>\n",
              "      <td>0.296807</td>\n",
              "      <td>-0.367189</td>\n",
              "      <td>0.074323</td>\n",
              "      <td>0.647749</td>\n",
              "      <td>-0.387641</td>\n",
              "      <td>0.795668</td>\n",
              "      <td>...</td>\n",
              "      <td>-0.006701</td>\n",
              "      <td>1.148127</td>\n",
              "      <td>-0.405452</td>\n",
              "      <td>0.237455</td>\n",
              "      <td>-0.420627</td>\n",
              "      <td>1.079186</td>\n",
              "      <td>0.789775</td>\n",
              "      <td>1.150599</td>\n",
              "      <td>-0.064056</td>\n",
              "      <td>0</td>\n",
              "    </tr>\n",
              "    <tr>\n",
              "      <th>...</th>\n",
              "      <td>...</td>\n",
              "      <td>...</td>\n",
              "      <td>...</td>\n",
              "      <td>...</td>\n",
              "      <td>...</td>\n",
              "      <td>...</td>\n",
              "      <td>...</td>\n",
              "      <td>...</td>\n",
              "      <td>...</td>\n",
              "      <td>...</td>\n",
              "      <td>...</td>\n",
              "      <td>...</td>\n",
              "      <td>...</td>\n",
              "      <td>...</td>\n",
              "      <td>...</td>\n",
              "      <td>...</td>\n",
              "      <td>...</td>\n",
              "      <td>...</td>\n",
              "      <td>...</td>\n",
              "      <td>...</td>\n",
              "      <td>...</td>\n",
              "    </tr>\n",
              "    <tr>\n",
              "      <th>284802</th>\n",
              "      <td>1.596447</td>\n",
              "      <td>-3.855238</td>\n",
              "      <td>2.962109</td>\n",
              "      <td>-2.918746</td>\n",
              "      <td>-1.505428</td>\n",
              "      <td>-2.715190</td>\n",
              "      <td>-1.720065</td>\n",
              "      <td>-3.318860</td>\n",
              "      <td>2.710673</td>\n",
              "      <td>1.853143</td>\n",
              "      <td>...</td>\n",
              "      <td>0.527871</td>\n",
              "      <td>0.157992</td>\n",
              "      <td>2.913145</td>\n",
              "      <td>-0.853267</td>\n",
              "      <td>2.438433</td>\n",
              "      <td>0.539542</td>\n",
              "      <td>3.386769</td>\n",
              "      <td>2.889895</td>\n",
              "      <td>-0.498627</td>\n",
              "      <td>0</td>\n",
              "    </tr>\n",
              "    <tr>\n",
              "      <th>284803</th>\n",
              "      <td>1.596447</td>\n",
              "      <td>-0.450234</td>\n",
              "      <td>-0.060941</td>\n",
              "      <td>1.468809</td>\n",
              "      <td>-0.536282</td>\n",
              "      <td>0.761521</td>\n",
              "      <td>0.852310</td>\n",
              "      <td>0.022238</td>\n",
              "      <td>0.358912</td>\n",
              "      <td>0.571058</td>\n",
              "      <td>...</td>\n",
              "      <td>0.529673</td>\n",
              "      <td>1.330031</td>\n",
              "      <td>0.026453</td>\n",
              "      <td>-1.703019</td>\n",
              "      <td>-1.232974</td>\n",
              "      <td>-0.840895</td>\n",
              "      <td>0.239143</td>\n",
              "      <td>-0.283001</td>\n",
              "      <td>-0.347827</td>\n",
              "      <td>0</td>\n",
              "    </tr>\n",
              "    <tr>\n",
              "      <th>284804</th>\n",
              "      <td>1.596447</td>\n",
              "      <td>1.098761</td>\n",
              "      <td>-0.253893</td>\n",
              "      <td>-2.387038</td>\n",
              "      <td>-0.404374</td>\n",
              "      <td>2.321088</td>\n",
              "      <td>2.446966</td>\n",
              "      <td>-0.331055</td>\n",
              "      <td>0.904959</td>\n",
              "      <td>0.424160</td>\n",
              "      <td>...</td>\n",
              "      <td>0.572460</td>\n",
              "      <td>0.830712</td>\n",
              "      <td>-0.117487</td>\n",
              "      <td>1.073779</td>\n",
              "      <td>0.535976</td>\n",
              "      <td>-0.182252</td>\n",
              "      <td>0.005621</td>\n",
              "      <td>-0.139115</td>\n",
              "      <td>-0.077303</td>\n",
              "      <td>0</td>\n",
              "    </tr>\n",
              "    <tr>\n",
              "      <th>284805</th>\n",
              "      <td>1.596447</td>\n",
              "      <td>-0.162699</td>\n",
              "      <td>0.398026</td>\n",
              "      <td>0.496565</td>\n",
              "      <td>0.506071</td>\n",
              "      <td>-0.341319</td>\n",
              "      <td>0.500934</td>\n",
              "      <td>-0.759370</td>\n",
              "      <td>0.866309</td>\n",
              "      <td>0.385236</td>\n",
              "      <td>...</td>\n",
              "      <td>0.652087</td>\n",
              "      <td>1.150681</td>\n",
              "      <td>-0.479893</td>\n",
              "      <td>0.207176</td>\n",
              "      <td>-1.157004</td>\n",
              "      <td>1.174118</td>\n",
              "      <td>0.386325</td>\n",
              "      <td>0.560362</td>\n",
              "      <td>-0.440680</td>\n",
              "      <td>0</td>\n",
              "    </tr>\n",
              "    <tr>\n",
              "      <th>284806</th>\n",
              "      <td>1.596447</td>\n",
              "      <td>-0.333797</td>\n",
              "      <td>-0.166483</td>\n",
              "      <td>0.497168</td>\n",
              "      <td>-0.366751</td>\n",
              "      <td>-0.017938</td>\n",
              "      <td>-0.528298</td>\n",
              "      <td>1.730287</td>\n",
              "      <td>-0.577934</td>\n",
              "      <td>0.475964</td>\n",
              "      <td>...</td>\n",
              "      <td>0.642043</td>\n",
              "      <td>0.924255</td>\n",
              "      <td>1.075998</td>\n",
              "      <td>0.015377</td>\n",
              "      <td>-0.963333</td>\n",
              "      <td>-1.745824</td>\n",
              "      <td>-0.019440</td>\n",
              "      <td>0.075432</td>\n",
              "      <td>0.858887</td>\n",
              "      <td>0</td>\n",
              "    </tr>\n",
              "  </tbody>\n",
              "</table>\n",
              "<p>284807 rows × 31 columns</p>\n",
              "</div>\n",
              "      <button class=\"colab-df-convert\" onclick=\"convertToInteractive('df-aa3e8f71-b43d-4356-a231-b002878ac855')\"\n",
              "              title=\"Convert this dataframe to an interactive table.\"\n",
              "              style=\"display:none;\">\n",
              "        \n",
              "  <svg xmlns=\"http://www.w3.org/2000/svg\" height=\"24px\"viewBox=\"0 0 24 24\"\n",
              "       width=\"24px\">\n",
              "    <path d=\"M0 0h24v24H0V0z\" fill=\"none\"/>\n",
              "    <path d=\"M18.56 5.44l.94 2.06.94-2.06 2.06-.94-2.06-.94-.94-2.06-.94 2.06-2.06.94zm-11 1L8.5 8.5l.94-2.06 2.06-.94-2.06-.94L8.5 2.5l-.94 2.06-2.06.94zm10 10l.94 2.06.94-2.06 2.06-.94-2.06-.94-.94-2.06-.94 2.06-2.06.94z\"/><path d=\"M17.41 7.96l-1.37-1.37c-.4-.4-.92-.59-1.43-.59-.52 0-1.04.2-1.43.59L10.3 9.45l-7.72 7.72c-.78.78-.78 2.05 0 2.83L4 21.41c.39.39.9.59 1.41.59.51 0 1.02-.2 1.41-.59l7.78-7.78 2.81-2.81c.8-.78.8-2.07 0-2.86zM5.41 20L4 18.59l7.72-7.72 1.47 1.35L5.41 20z\"/>\n",
              "  </svg>\n",
              "      </button>\n",
              "      \n",
              "  <style>\n",
              "    .colab-df-container {\n",
              "      display:flex;\n",
              "      flex-wrap:wrap;\n",
              "      gap: 12px;\n",
              "    }\n",
              "\n",
              "    .colab-df-convert {\n",
              "      background-color: #E8F0FE;\n",
              "      border: none;\n",
              "      border-radius: 50%;\n",
              "      cursor: pointer;\n",
              "      display: none;\n",
              "      fill: #1967D2;\n",
              "      height: 32px;\n",
              "      padding: 0 0 0 0;\n",
              "      width: 32px;\n",
              "    }\n",
              "\n",
              "    .colab-df-convert:hover {\n",
              "      background-color: #E2EBFA;\n",
              "      box-shadow: 0px 1px 2px rgba(60, 64, 67, 0.3), 0px 1px 3px 1px rgba(60, 64, 67, 0.15);\n",
              "      fill: #174EA6;\n",
              "    }\n",
              "\n",
              "    [theme=dark] .colab-df-convert {\n",
              "      background-color: #3B4455;\n",
              "      fill: #D2E3FC;\n",
              "    }\n",
              "\n",
              "    [theme=dark] .colab-df-convert:hover {\n",
              "      background-color: #434B5C;\n",
              "      box-shadow: 0px 1px 3px 1px rgba(0, 0, 0, 0.15);\n",
              "      filter: drop-shadow(0px 1px 2px rgba(0, 0, 0, 0.3));\n",
              "      fill: #FFFFFF;\n",
              "    }\n",
              "  </style>\n",
              "\n",
              "      <script>\n",
              "        const buttonEl =\n",
              "          document.querySelector('#df-aa3e8f71-b43d-4356-a231-b002878ac855 button.colab-df-convert');\n",
              "        buttonEl.style.display =\n",
              "          google.colab.kernel.accessAllowed ? 'block' : 'none';\n",
              "\n",
              "        async function convertToInteractive(key) {\n",
              "          const element = document.querySelector('#df-aa3e8f71-b43d-4356-a231-b002878ac855');\n",
              "          const dataTable =\n",
              "            await google.colab.kernel.invokeFunction('convertToInteractive',\n",
              "                                                     [key], {});\n",
              "          if (!dataTable) return;\n",
              "\n",
              "          const docLinkHtml = 'Like what you see? Visit the ' +\n",
              "            '<a target=\"_blank\" href=https://colab.research.google.com/notebooks/data_table.ipynb>data table notebook</a>'\n",
              "            + ' to learn more about interactive tables.';\n",
              "          element.innerHTML = '';\n",
              "          dataTable['output_type'] = 'display_data';\n",
              "          await google.colab.output.renderOutput(dataTable, element);\n",
              "          const docLink = document.createElement('div');\n",
              "          docLink.innerHTML = docLinkHtml;\n",
              "          element.appendChild(docLink);\n",
              "        }\n",
              "      </script>\n",
              "    </div>\n",
              "  </div>\n",
              "  "
            ]
          },
          "metadata": {},
          "execution_count": 15
        }
      ]
    },
    {
      "cell_type": "code",
      "source": [
        "from sklearn.decomposition import PCA\n",
        "pca = PCA()\n",
        "pca_data_points = pca.fit_transform(scaled_df)\n",
        "explained_variance = pca.explained_variance_ratio_"
      ],
      "metadata": {
        "id": "mzHrAwnT-r2u"
      },
      "execution_count": 16,
      "outputs": []
    },
    {
      "cell_type": "code",
      "source": [
        "plt.figure(figsize=(8,8))\n",
        "ax=sns.distplot(explained_variance)\n",
        "plt.title(\"Distrbution Plot for Explained Variance by PCA Features\")\n",
        "plt.show()"
      ],
      "metadata": {
        "colab": {
          "base_uri": "https://localhost:8080/",
          "height": 554
        },
        "id": "kQTW2Ji_-r0D",
        "outputId": "c7305204-4547-48ca-d14c-0e841a3c4e17"
      },
      "execution_count": 17,
      "outputs": [
        {
          "output_type": "stream",
          "name": "stderr",
          "text": [
            "/usr/local/lib/python3.7/dist-packages/seaborn/distributions.py:2619: FutureWarning: `distplot` is a deprecated function and will be removed in a future version. Please adapt your code to use either `displot` (a figure-level function with similar flexibility) or `histplot` (an axes-level function for histograms).\n",
            "  warnings.warn(msg, FutureWarning)\n"
          ]
        },
        {
          "output_type": "display_data",
          "data": {
            "text/plain": [
              "<Figure size 576x576 with 1 Axes>"
            ],
            "image/png": "[encoded data removed]"
          },
          "metadata": {
            "needs_background": "light"
          }
        }
      ]
    },
    {
      "cell_type": "markdown",
      "source": [
        "#### We can observe from the distrbution plot above the dataset doesnt have very high descriptive features that would explain the variance of whole dataset so we would not able to reduce the dimensionality by much."
      ],
      "metadata": {
        "id": "TrNfepgNBhRk"
      }
    },
    {
      "cell_type": "code",
      "source": [
        "plt.figure(figsize=(8,8))\n",
        "sns.lineplot(x=list(range(0,len(explained_variance))),y=np.cumsum(explained_variance))\n",
        "plt.title(\"Plotting Cumulative Sum of Explained Variance by pca features\")\n",
        "plt.show()"
      ],
      "metadata": {
        "colab": {
          "base_uri": "https://localhost:8080/",
          "height": 499
        },
        "id": "XyaZYxiY-rxr",
        "outputId": "5966edc4-4288-4ed1-a9a4-d6c1b3464151"
      },
      "execution_count": 18,
      "outputs": [
        {
          "output_type": "display_data",
          "data": {
            "text/plain": [
              "<Figure size 576x576 with 1 Axes>"
            ],
            "image/png": "[encoded data removed]"
          },
          "metadata": {
            "needs_background": "light"
          }
        }
      ]
    },
    {
      "cell_type": "markdown",
      "source": [
        "#### We can infer from cumulative sum plot that the variance explained in the dataset increases almost linearly as we add more features to the dataset, but start toflatten from feature 25 number onwards. So we can use pca feature with n>=25 for modelling"
      ],
      "metadata": {
        "id": "EKICEyLiFCUH"
      }
    },
    {
      "cell_type": "code",
      "source": [
        "pca_dataset=pd.DataFrame(pca_data_points)\n",
        "pca_dataset=pca_dataset.iloc[:,0:25]\n",
        "pca_dataset[\"Class\"]=scaled_df[\"Class\"]"
      ],
      "metadata": {
        "id": "8BPec1wv-rti"
      },
      "execution_count": 19,
      "outputs": []
    },
    {
      "cell_type": "code",
      "source": [
        "# We would be using PCA features till n=25 since they can explain upto 95% of dataset variance\n",
        "explained_variance[0:25].sum()"
      ],
      "metadata": {
        "colab": {
          "base_uri": "https://localhost:8080/"
        },
        "id": "QeaE97T2-rq5",
        "outputId": "fa07beb5-5bd3-4d72-ecaa-edc1e2d3fa2b"
      },
      "execution_count": 20,
      "outputs": [
        {
          "output_type": "execute_result",
          "data": {
            "text/plain": [
              "0.9496911997916052"
            ]
          },
          "metadata": {},
          "execution_count": 20
        }
      ]
    },
    {
      "cell_type": "markdown",
      "source": [
        "### Task 2. \n",
        "\n",
        "#### Select three models: a strong learner and a bagging model and a boosting model. For each of the models:\n",
        "#### a. Motivate the choice of the model. Explain how your data satisfies the model’s requirements. \n",
        "#### b. Perform hyperparameter tuning if applicable.\n",
        "#### c. Train and evaluate your model\n",
        "#### d. Plot the learning curve and analyze it\n",
        "\n",
        "#### Ans. a) Since our problem is of binary classifcation, and we are supposed to use a weak learner for the problem 1, so we would go with logistic regression model, and from EDA we inferred that our data is high dimensional and have very class imbalance so we would train baggingclassifier and adaboost classifier to tackle these two issues. and All these models support continious feature set as an input for the training so our data is compatible with all the models. and we have also tackled the issue of outliers with outliers capping since all of our selected machine learning models are sensitive to outliers"
      ],
      "metadata": {
        "id": "JwwkVIqXG3d7"
      }
    },
    {
      "cell_type": "code",
      "source": [
        "pca_dataset"
      ],
      "metadata": {
        "colab": {
          "base_uri": "https://localhost:8080/",
          "height": 424
        },
        "id": "3opUk3HwN89a",
        "outputId": "9be7f7a4-4134-463f-a4da-07e98cb545c3"
      },
      "execution_count": 143,
      "outputs": [
        {
          "output_type": "execute_result",
          "data": {
            "text/plain": [
              "               0         1         2         3         4         5         6  \\\n",
              "0       1.270578 -2.350554  0.911022 -0.168824 -0.165805  0.027522  0.169365   \n",
              "1      -0.379314 -1.912414  0.040105  0.330227  0.520617 -0.227997 -0.801586   \n",
              "2       2.900493 -1.550369 -0.352723 -0.505637  1.032861  1.354544  0.977064   \n",
              "3       0.725212 -1.657364  0.604011  0.365020 -0.634065  0.068407 -1.297696   \n",
              "4       0.689316 -1.302661  1.297309 -1.071649  0.066042 -0.925171  0.014948   \n",
              "...          ...       ...       ...       ...       ...       ...       ...   \n",
              "284802 -0.042955 -0.189920 -1.491812 -5.960071  0.317581 -0.538874  0.746453   \n",
              "284803 -0.379531  0.657264  0.353245 -1.051351 -0.831739  1.313091  0.198577   \n",
              "284804 -0.667502  2.281366 -0.377053 -0.740936 -1.588485  2.328376 -0.303111   \n",
              "284805 -0.154980  0.577274 -0.193252 -1.634254 -1.343787  0.351700  0.878952   \n",
              "284806  0.611379  2.309287  1.001467 -0.544815  0.618916 -0.146551 -0.122826   \n",
              "\n",
              "               7         8         9  ...        16        17        18  \\\n",
              "0       0.138364  0.369939 -0.321856  ... -0.497169  0.580711 -1.515014   \n",
              "1      -0.494945 -0.448210  0.146514  ...  0.336785  0.835266  0.463247   \n",
              "2       1.620346  2.346416  0.367340  ...  0.650381  2.228574  0.225422   \n",
              "3       0.451986 -0.596288 -0.787418  ...  1.472462  1.148198  0.961703   \n",
              "4      -0.600585  0.077421 -1.607320  ... -0.976145 -0.537073  0.588290   \n",
              "...          ...       ...       ...  ...       ...       ...       ...   \n",
              "284802  0.319201  0.608911 -0.991299  ... -1.596505  0.175804  0.121133   \n",
              "284803 -1.136092  0.815361 -0.266665  ...  1.111161  2.094029  0.832666   \n",
              "284804  0.988544 -2.069844  0.993260  ...  0.111535 -0.039623 -0.972740   \n",
              "284805  0.205012  0.138269  0.143040  ... -3.028740  0.631441 -2.222400   \n",
              "284806 -1.173230  1.497064  0.287066  ...  1.169403  0.148542 -1.026829   \n",
              "\n",
              "              19        20        21        22        23        24  Class  \n",
              "0       1.254400 -0.273861 -0.150137  0.487454  0.183567  0.022012      0  \n",
              "1      -0.164273 -0.354106  0.168605  0.087233 -0.013606 -0.192630      0  \n",
              "2       0.935731  0.051233 -0.178601  1.049148 -1.448389  0.312283      0  \n",
              "3      -0.095241 -0.118869  0.419636  0.374505 -0.823469 -0.052170      0  \n",
              "4       0.886832 -0.049806 -0.427305 -0.117714 -0.114507 -0.344606      0  \n",
              "...          ...       ...       ...       ...       ...       ...    ...  \n",
              "284802 -3.793660  8.840027 -0.210476  0.234489 -1.059302 -1.402365      0  \n",
              "284803  0.982047 -0.209707 -0.693382 -0.323111 -0.121574  0.447827      0  \n",
              "284804  0.497496  0.227261 -0.096170 -0.064509  0.030761  0.068474      0  \n",
              "284805  0.036835 -1.011831 -0.295213 -0.054349  0.150314  0.522867      0  \n",
              "284806  0.461581 -0.395923 -0.302607  0.313431 -0.705096  0.284140      0  \n",
              "\n",
              "[284807 rows x 26 columns]"
            ],
            "text/html": [
              "\n",
              "  <div id=\"df-85dcf751-ae47-477b-b8fb-ef6a02a71bac\">\n",
              "    <div class=\"colab-df-container\">\n",
              "      <div>\n",
              "<style scoped>\n",
              "    .dataframe tbody tr th:only-of-type {\n",
              "        vertical-align: middle;\n",
              "    }\n",
              "\n",
              "    .dataframe tbody tr th {\n",
              "        vertical-align: top;\n",
              "    }\n",
              "\n",
              "    .dataframe thead th {\n",
              "        text-align: right;\n",
              "    }\n",
              "</style>\n",
              "<table border=\"1\" class=\"dataframe\">\n",
              "  <thead>\n",
              "    <tr style=\"text-align: right;\">\n",
              "      <th></th>\n",
              "      <th>0</th>\n",
              "      <th>1</th>\n",
              "      <th>2</th>\n",
              "      <th>3</th>\n",
              "      <th>4</th>\n",
              "      <th>5</th>\n",
              "      <th>6</th>\n",
              "      <th>7</th>\n",
              "      <th>8</th>\n",
              "      <th>9</th>\n",
              "      <th>...</th>\n",
              "      <th>16</th>\n",
              "      <th>17</th>\n",
              "      <th>18</th>\n",
              "      <th>19</th>\n",
              "      <th>20</th>\n",
              "      <th>21</th>\n",
              "      <th>22</th>\n",
              "      <th>23</th>\n",
              "      <th>24</th>\n",
              "      <th>Class</th>\n",
              "    </tr>\n",
              "  </thead>\n",
              "  <tbody>\n",
              "    <tr>\n",
              "      <th>0</th>\n",
              "      <td>1.270578</td>\n",
              "      <td>-2.350554</td>\n",
              "      <td>0.911022</td>\n",
              "      <td>-0.168824</td>\n",
              "      <td>-0.165805</td>\n",
              "      <td>0.027522</td>\n",
              "      <td>0.169365</td>\n",
              "      <td>0.138364</td>\n",
              "      <td>0.369939</td>\n",
              "      <td>-0.321856</td>\n",
              "      <td>...</td>\n",
              "      <td>-0.497169</td>\n",
              "      <td>0.580711</td>\n",
              "      <td>-1.515014</td>\n",
              "      <td>1.254400</td>\n",
              "      <td>-0.273861</td>\n",
              "      <td>-0.150137</td>\n",
              "      <td>0.487454</td>\n",
              "      <td>0.183567</td>\n",
              "      <td>0.022012</td>\n",
              "      <td>0</td>\n",
              "    </tr>\n",
              "    <tr>\n",
              "      <th>1</th>\n",
              "      <td>-0.379314</td>\n",
              "      <td>-1.912414</td>\n",
              "      <td>0.040105</td>\n",
              "      <td>0.330227</td>\n",
              "      <td>0.520617</td>\n",
              "      <td>-0.227997</td>\n",
              "      <td>-0.801586</td>\n",
              "      <td>-0.494945</td>\n",
              "      <td>-0.448210</td>\n",
              "      <td>0.146514</td>\n",
              "      <td>...</td>\n",
              "      <td>0.336785</td>\n",
              "      <td>0.835266</td>\n",
              "      <td>0.463247</td>\n",
              "      <td>-0.164273</td>\n",
              "      <td>-0.354106</td>\n",
              "      <td>0.168605</td>\n",
              "      <td>0.087233</td>\n",
              "      <td>-0.013606</td>\n",
              "      <td>-0.192630</td>\n",
              "      <td>0</td>\n",
              "    </tr>\n",
              "    <tr>\n",
              "      <th>2</th>\n",
              "      <td>2.900493</td>\n",
              "      <td>-1.550369</td>\n",
              "      <td>-0.352723</td>\n",
              "      <td>-0.505637</td>\n",
              "      <td>1.032861</td>\n",
              "      <td>1.354544</td>\n",
              "      <td>0.977064</td>\n",
              "      <td>1.620346</td>\n",
              "      <td>2.346416</td>\n",
              "      <td>0.367340</td>\n",
              "      <td>...</td>\n",
              "      <td>0.650381</td>\n",
              "      <td>2.228574</td>\n",
              "      <td>0.225422</td>\n",
              "      <td>0.935731</td>\n",
              "      <td>0.051233</td>\n",
              "      <td>-0.178601</td>\n",
              "      <td>1.049148</td>\n",
              "      <td>-1.448389</td>\n",
              "      <td>0.312283</td>\n",
              "      <td>0</td>\n",
              "    </tr>\n",
              "    <tr>\n",
              "      <th>3</th>\n",
              "      <td>0.725212</td>\n",
              "      <td>-1.657364</td>\n",
              "      <td>0.604011</td>\n",
              "      <td>0.365020</td>\n",
              "      <td>-0.634065</td>\n",
              "      <td>0.068407</td>\n",
              "      <td>-1.297696</td>\n",
              "      <td>0.451986</td>\n",
              "      <td>-0.596288</td>\n",
              "      <td>-0.787418</td>\n",
              "      <td>...</td>\n",
              "      <td>1.472462</td>\n",
              "      <td>1.148198</td>\n",
              "      <td>0.961703</td>\n",
              "      <td>-0.095241</td>\n",
              "      <td>-0.118869</td>\n",
              "      <td>0.419636</td>\n",
              "      <td>0.374505</td>\n",
              "      <td>-0.823469</td>\n",
              "      <td>-0.052170</td>\n",
              "      <td>0</td>\n",
              "    </tr>\n",
              "    <tr>\n",
              "      <th>4</th>\n",
              "      <td>0.689316</td>\n",
              "      <td>-1.302661</td>\n",
              "      <td>1.297309</td>\n",
              "      <td>-1.071649</td>\n",
              "      <td>0.066042</td>\n",
              "      <td>-0.925171</td>\n",
              "      <td>0.014948</td>\n",
              "      <td>-0.600585</td>\n",
              "      <td>0.077421</td>\n",
              "      <td>-1.607320</td>\n",
              "      <td>...</td>\n",
              "      <td>-0.976145</td>\n",
              "      <td>-0.537073</td>\n",
              "      <td>0.588290</td>\n",
              "      <td>0.886832</td>\n",
              "      <td>-0.049806</td>\n",
              "      <td>-0.427305</td>\n",
              "      <td>-0.117714</td>\n",
              "      <td>-0.114507</td>\n",
              "      <td>-0.344606</td>\n",
              "      <td>0</td>\n",
              "    </tr>\n",
              "    <tr>\n",
              "      <th>...</th>\n",
              "      <td>...</td>\n",
              "      <td>...</td>\n",
              "      <td>...</td>\n",
              "      <td>...</td>\n",
              "      <td>...</td>\n",
              "      <td>...</td>\n",
              "      <td>...</td>\n",
              "      <td>...</td>\n",
              "      <td>...</td>\n",
              "      <td>...</td>\n",
              "      <td>...</td>\n",
              "      <td>...</td>\n",
              "      <td>...</td>\n",
              "      <td>...</td>\n",
              "      <td>...</td>\n",
              "      <td>...</td>\n",
              "      <td>...</td>\n",
              "      <td>...</td>\n",
              "      <td>...</td>\n",
              "      <td>...</td>\n",
              "      <td>...</td>\n",
              "    </tr>\n",
              "    <tr>\n",
              "      <th>284802</th>\n",
              "      <td>-0.042955</td>\n",
              "      <td>-0.189920</td>\n",
              "      <td>-1.491812</td>\n",
              "      <td>-5.960071</td>\n",
              "      <td>0.317581</td>\n",
              "      <td>-0.538874</td>\n",
              "      <td>0.746453</td>\n",
              "      <td>0.319201</td>\n",
              "      <td>0.608911</td>\n",
              "      <td>-0.991299</td>\n",
              "      <td>...</td>\n",
              "      <td>-1.596505</td>\n",
              "      <td>0.175804</td>\n",
              "      <td>0.121133</td>\n",
              "      <td>-3.793660</td>\n",
              "      <td>8.840027</td>\n",
              "      <td>-0.210476</td>\n",
              "      <td>0.234489</td>\n",
              "      <td>-1.059302</td>\n",
              "      <td>-1.402365</td>\n",
              "      <td>0</td>\n",
              "    </tr>\n",
              "    <tr>\n",
              "      <th>284803</th>\n",
              "      <td>-0.379531</td>\n",
              "      <td>0.657264</td>\n",
              "      <td>0.353245</td>\n",
              "      <td>-1.051351</td>\n",
              "      <td>-0.831739</td>\n",
              "      <td>1.313091</td>\n",
              "      <td>0.198577</td>\n",
              "      <td>-1.136092</td>\n",
              "      <td>0.815361</td>\n",
              "      <td>-0.266665</td>\n",
              "      <td>...</td>\n",
              "      <td>1.111161</td>\n",
              "      <td>2.094029</td>\n",
              "      <td>0.832666</td>\n",
              "      <td>0.982047</td>\n",
              "      <td>-0.209707</td>\n",
              "      <td>-0.693382</td>\n",
              "      <td>-0.323111</td>\n",
              "      <td>-0.121574</td>\n",
              "      <td>0.447827</td>\n",
              "      <td>0</td>\n",
              "    </tr>\n",
              "    <tr>\n",
              "      <th>284804</th>\n",
              "      <td>-0.667502</td>\n",
              "      <td>2.281366</td>\n",
              "      <td>-0.377053</td>\n",
              "      <td>-0.740936</td>\n",
              "      <td>-1.588485</td>\n",
              "      <td>2.328376</td>\n",
              "      <td>-0.303111</td>\n",
              "      <td>0.988544</td>\n",
              "      <td>-2.069844</td>\n",
              "      <td>0.993260</td>\n",
              "      <td>...</td>\n",
              "      <td>0.111535</td>\n",
              "      <td>-0.039623</td>\n",
              "      <td>-0.972740</td>\n",
              "      <td>0.497496</td>\n",
              "      <td>0.227261</td>\n",
              "      <td>-0.096170</td>\n",
              "      <td>-0.064509</td>\n",
              "      <td>0.030761</td>\n",
              "      <td>0.068474</td>\n",
              "      <td>0</td>\n",
              "    </tr>\n",
              "    <tr>\n",
              "      <th>284805</th>\n",
              "      <td>-0.154980</td>\n",
              "      <td>0.577274</td>\n",
              "      <td>-0.193252</td>\n",
              "      <td>-1.634254</td>\n",
              "      <td>-1.343787</td>\n",
              "      <td>0.351700</td>\n",
              "      <td>0.878952</td>\n",
              "      <td>0.205012</td>\n",
              "      <td>0.138269</td>\n",
              "      <td>0.143040</td>\n",
              "      <td>...</td>\n",
              "      <td>-3.028740</td>\n",
              "      <td>0.631441</td>\n",
              "      <td>-2.222400</td>\n",
              "      <td>0.036835</td>\n",
              "      <td>-1.011831</td>\n",
              "      <td>-0.295213</td>\n",
              "      <td>-0.054349</td>\n",
              "      <td>0.150314</td>\n",
              "      <td>0.522867</td>\n",
              "      <td>0</td>\n",
              "    </tr>\n",
              "    <tr>\n",
              "      <th>284806</th>\n",
              "      <td>0.611379</td>\n",
              "      <td>2.309287</td>\n",
              "      <td>1.001467</td>\n",
              "      <td>-0.544815</td>\n",
              "      <td>0.618916</td>\n",
              "      <td>-0.146551</td>\n",
              "      <td>-0.122826</td>\n",
              "      <td>-1.173230</td>\n",
              "      <td>1.497064</td>\n",
              "      <td>0.287066</td>\n",
              "      <td>...</td>\n",
              "      <td>1.169403</td>\n",
              "      <td>0.148542</td>\n",
              "      <td>-1.026829</td>\n",
              "      <td>0.461581</td>\n",
              "      <td>-0.395923</td>\n",
              "      <td>-0.302607</td>\n",
              "      <td>0.313431</td>\n",
              "      <td>-0.705096</td>\n",
              "      <td>0.284140</td>\n",
              "      <td>0</td>\n",
              "    </tr>\n",
              "  </tbody>\n",
              "</table>\n",
              "<p>284807 rows × 26 columns</p>\n",
              "</div>\n",
              "      <button class=\"colab-df-convert\" onclick=\"convertToInteractive('df-85dcf751-ae47-477b-b8fb-ef6a02a71bac')\"\n",
              "              title=\"Convert this dataframe to an interactive table.\"\n",
              "              style=\"display:none;\">\n",
              "        \n",
              "  <svg xmlns=\"http://www.w3.org/2000/svg\" height=\"24px\"viewBox=\"0 0 24 24\"\n",
              "       width=\"24px\">\n",
              "    <path d=\"M0 0h24v24H0V0z\" fill=\"none\"/>\n",
              "    <path d=\"M18.56 5.44l.94 2.06.94-2.06 2.06-.94-2.06-.94-.94-2.06-.94 2.06-2.06.94zm-11 1L8.5 8.5l.94-2.06 2.06-.94-2.06-.94L8.5 2.5l-.94 2.06-2.06.94zm10 10l.94 2.06.94-2.06 2.06-.94-2.06-.94-.94-2.06-.94 2.06-2.06.94z\"/><path d=\"M17.41 7.96l-1.37-1.37c-.4-.4-.92-.59-1.43-.59-.52 0-1.04.2-1.43.59L10.3 9.45l-7.72 7.72c-.78.78-.78 2.05 0 2.83L4 21.41c.39.39.9.59 1.41.59.51 0 1.02-.2 1.41-.59l7.78-7.78 2.81-2.81c.8-.78.8-2.07 0-2.86zM5.41 20L4 18.59l7.72-7.72 1.47 1.35L5.41 20z\"/>\n",
              "  </svg>\n",
              "      </button>\n",
              "      \n",
              "  <style>\n",
              "    .colab-df-container {\n",
              "      display:flex;\n",
              "      flex-wrap:wrap;\n",
              "      gap: 12px;\n",
              "    }\n",
              "\n",
              "    .colab-df-convert {\n",
              "      background-color: #E8F0FE;\n",
              "      border: none;\n",
              "      border-radius: 50%;\n",
              "      cursor: pointer;\n",
              "      display: none;\n",
              "      fill: #1967D2;\n",
              "      height: 32px;\n",
              "      padding: 0 0 0 0;\n",
              "      width: 32px;\n",
              "    }\n",
              "\n",
              "    .colab-df-convert:hover {\n",
              "      background-color: #E2EBFA;\n",
              "      box-shadow: 0px 1px 2px rgba(60, 64, 67, 0.3), 0px 1px 3px 1px rgba(60, 64, 67, 0.15);\n",
              "      fill: #174EA6;\n",
              "    }\n",
              "\n",
              "    [theme=dark] .colab-df-convert {\n",
              "      background-color: #3B4455;\n",
              "      fill: #D2E3FC;\n",
              "    }\n",
              "\n",
              "    [theme=dark] .colab-df-convert:hover {\n",
              "      background-color: #434B5C;\n",
              "      box-shadow: 0px 1px 3px 1px rgba(0, 0, 0, 0.15);\n",
              "      filter: drop-shadow(0px 1px 2px rgba(0, 0, 0, 0.3));\n",
              "      fill: #FFFFFF;\n",
              "    }\n",
              "  </style>\n",
              "\n",
              "      <script>\n",
              "        const buttonEl =\n",
              "          document.querySelector('#df-85dcf751-ae47-477b-b8fb-ef6a02a71bac button.colab-df-convert');\n",
              "        buttonEl.style.display =\n",
              "          google.colab.kernel.accessAllowed ? 'block' : 'none';\n",
              "\n",
              "        async function convertToInteractive(key) {\n",
              "          const element = document.querySelector('#df-85dcf751-ae47-477b-b8fb-ef6a02a71bac');\n",
              "          const dataTable =\n",
              "            await google.colab.kernel.invokeFunction('convertToInteractive',\n",
              "                                                     [key], {});\n",
              "          if (!dataTable) return;\n",
              "\n",
              "          const docLinkHtml = 'Like what you see? Visit the ' +\n",
              "            '<a target=\"_blank\" href=https://colab.research.google.com/notebooks/data_table.ipynb>data table notebook</a>'\n",
              "            + ' to learn more about interactive tables.';\n",
              "          element.innerHTML = '';\n",
              "          dataTable['output_type'] = 'display_data';\n",
              "          await google.colab.output.renderOutput(dataTable, element);\n",
              "          const docLink = document.createElement('div');\n",
              "          docLink.innerHTML = docLinkHtml;\n",
              "          element.appendChild(docLink);\n",
              "        }\n",
              "      </script>\n",
              "    </div>\n",
              "  </div>\n",
              "  "
            ]
          },
          "metadata": {},
          "execution_count": 143
        }
      ]
    },
    {
      "cell_type": "code",
      "source": [
        "#Splitting the final pca components dataset into Train and Test sets\n",
        "X_train, X_test, y_train, y_test = train_test_split(pca_dataset.iloc[:,0:25], pca_dataset[['Class']], test_size=0.1, random_state=4)"
      ],
      "metadata": {
        "id": "pbMMUmel-rmc"
      },
      "execution_count": 21,
      "outputs": []
    },
    {
      "cell_type": "code",
      "source": [
        "#Training a Logistic Regression Model\n",
        "from sklearn.linear_model import LogisticRegression\n",
        "lr_model=LogisticRegression(max_iter=200)\n",
        "lr_model.fit(X_train,y_train.values.ravel())\n",
        "lr_predictions=lr_model.predict(X_test)\n",
        "lr_score=f1_score(lr_predictions,y_test.values.ravel(),average=\"macro\")\n",
        "print(\"f1_score_macro:\",lr_score)\n",
        "pd.DataFrame(classification_report(y_test.values.ravel(),lr_predictions, output_dict=True)).T"
      ],
      "metadata": {
        "colab": {
          "base_uri": "https://localhost:8080/",
          "height": 224
        },
        "id": "qhx6SoH4-rkE",
        "outputId": "af9fb021-d6d1-47ea-a51b-6894b7cd525e"
      },
      "execution_count": 12,
      "outputs": [
        {
          "output_type": "stream",
          "name": "stdout",
          "text": [
            "f1_score_macro: 0.6662447999062518\n"
          ]
        },
        {
          "output_type": "execute_result",
          "data": {
            "text/plain": [
              "              precision    recall  f1-score       support\n",
              "0              0.998419  0.999894  0.999156  28424.000000\n",
              "1              0.800000  0.210526  0.333333     57.000000\n",
              "accuracy       0.998315  0.998315  0.998315      0.998315\n",
              "macro avg      0.899210  0.605210  0.666245  28481.000000\n",
              "weighted avg   0.998022  0.998315  0.997824  28481.000000"
            ],
            "text/html": [
              "\n",
              "  <div id=\"df-fdfbd5d6-7a01-4141-910f-3b08226e7809\">\n",
              "    <div class=\"colab-df-container\">\n",
              "      <div>\n",
              "<style scoped>\n",
              "    .dataframe tbody tr th:only-of-type {\n",
              "        vertical-align: middle;\n",
              "    }\n",
              "\n",
              "    .dataframe tbody tr th {\n",
              "        vertical-align: top;\n",
              "    }\n",
              "\n",
              "    .dataframe thead th {\n",
              "        text-align: right;\n",
              "    }\n",
              "</style>\n",
              "<table border=\"1\" class=\"dataframe\">\n",
              "  <thead>\n",
              "    <tr style=\"text-align: right;\">\n",
              "      <th></th>\n",
              "      <th>precision</th>\n",
              "      <th>recall</th>\n",
              "      <th>f1-score</th>\n",
              "      <th>support</th>\n",
              "    </tr>\n",
              "  </thead>\n",
              "  <tbody>\n",
              "    <tr>\n",
              "      <th>0</th>\n",
              "      <td>0.998419</td>\n",
              "      <td>0.999894</td>\n",
              "      <td>0.999156</td>\n",
              "      <td>28424.000000</td>\n",
              "    </tr>\n",
              "    <tr>\n",
              "      <th>1</th>\n",
              "      <td>0.800000</td>\n",
              "      <td>0.210526</td>\n",
              "      <td>0.333333</td>\n",
              "      <td>57.000000</td>\n",
              "    </tr>\n",
              "    <tr>\n",
              "      <th>accuracy</th>\n",
              "      <td>0.998315</td>\n",
              "      <td>0.998315</td>\n",
              "      <td>0.998315</td>\n",
              "      <td>0.998315</td>\n",
              "    </tr>\n",
              "    <tr>\n",
              "      <th>macro avg</th>\n",
              "      <td>0.899210</td>\n",
              "      <td>0.605210</td>\n",
              "      <td>0.666245</td>\n",
              "      <td>28481.000000</td>\n",
              "    </tr>\n",
              "    <tr>\n",
              "      <th>weighted avg</th>\n",
              "      <td>0.998022</td>\n",
              "      <td>0.998315</td>\n",
              "      <td>0.997824</td>\n",
              "      <td>28481.000000</td>\n",
              "    </tr>\n",
              "  </tbody>\n",
              "</table>\n",
              "</div>\n",
              "      <button class=\"colab-df-convert\" onclick=\"convertToInteractive('df-fdfbd5d6-7a01-4141-910f-3b08226e7809')\"\n",
              "              title=\"Convert this dataframe to an interactive table.\"\n",
              "              style=\"display:none;\">\n",
              "        \n",
              "  <svg xmlns=\"http://www.w3.org/2000/svg\" height=\"24px\"viewBox=\"0 0 24 24\"\n",
              "       width=\"24px\">\n",
              "    <path d=\"M0 0h24v24H0V0z\" fill=\"none\"/>\n",
              "    <path d=\"M18.56 5.44l.94 2.06.94-2.06 2.06-.94-2.06-.94-.94-2.06-.94 2.06-2.06.94zm-11 1L8.5 8.5l.94-2.06 2.06-.94-2.06-.94L8.5 2.5l-.94 2.06-2.06.94zm10 10l.94 2.06.94-2.06 2.06-.94-2.06-.94-.94-2.06-.94 2.06-2.06.94z\"/><path d=\"M17.41 7.96l-1.37-1.37c-.4-.4-.92-.59-1.43-.59-.52 0-1.04.2-1.43.59L10.3 9.45l-7.72 7.72c-.78.78-.78 2.05 0 2.83L4 21.41c.39.39.9.59 1.41.59.51 0 1.02-.2 1.41-.59l7.78-7.78 2.81-2.81c.8-.78.8-2.07 0-2.86zM5.41 20L4 18.59l7.72-7.72 1.47 1.35L5.41 20z\"/>\n",
              "  </svg>\n",
              "      </button>\n",
              "      \n",
              "  <style>\n",
              "    .colab-df-container {\n",
              "      display:flex;\n",
              "      flex-wrap:wrap;\n",
              "      gap: 12px;\n",
              "    }\n",
              "\n",
              "    .colab-df-convert {\n",
              "      background-color: #E8F0FE;\n",
              "      border: none;\n",
              "      border-radius: 50%;\n",
              "      cursor: pointer;\n",
              "      display: none;\n",
              "      fill: #1967D2;\n",
              "      height: 32px;\n",
              "      padding: 0 0 0 0;\n",
              "      width: 32px;\n",
              "    }\n",
              "\n",
              "    .colab-df-convert:hover {\n",
              "      background-color: #E2EBFA;\n",
              "      box-shadow: 0px 1px 2px rgba(60, 64, 67, 0.3), 0px 1px 3px 1px rgba(60, 64, 67, 0.15);\n",
              "      fill: #174EA6;\n",
              "    }\n",
              "\n",
              "    [theme=dark] .colab-df-convert {\n",
              "      background-color: #3B4455;\n",
              "      fill: #D2E3FC;\n",
              "    }\n",
              "\n",
              "    [theme=dark] .colab-df-convert:hover {\n",
              "      background-color: #434B5C;\n",
              "      box-shadow: 0px 1px 3px 1px rgba(0, 0, 0, 0.15);\n",
              "      filter: drop-shadow(0px 1px 2px rgba(0, 0, 0, 0.3));\n",
              "      fill: #FFFFFF;\n",
              "    }\n",
              "  </style>\n",
              "\n",
              "      <script>\n",
              "        const buttonEl =\n",
              "          document.querySelector('#df-fdfbd5d6-7a01-4141-910f-3b08226e7809 button.colab-df-convert');\n",
              "        buttonEl.style.display =\n",
              "          google.colab.kernel.accessAllowed ? 'block' : 'none';\n",
              "\n",
              "        async function convertToInteractive(key) {\n",
              "          const element = document.querySelector('#df-fdfbd5d6-7a01-4141-910f-3b08226e7809');\n",
              "          const dataTable =\n",
              "            await google.colab.kernel.invokeFunction('convertToInteractive',\n",
              "                                                     [key], {});\n",
              "          if (!dataTable) return;\n",
              "\n",
              "          const docLinkHtml = 'Like what you see? Visit the ' +\n",
              "            '<a target=\"_blank\" href=https://colab.research.google.com/notebooks/data_table.ipynb>data table notebook</a>'\n",
              "            + ' to learn more about interactive tables.';\n",
              "          element.innerHTML = '';\n",
              "          dataTable['output_type'] = 'display_data';\n",
              "          await google.colab.output.renderOutput(dataTable, element);\n",
              "          const docLink = document.createElement('div');\n",
              "          docLink.innerHTML = docLinkHtml;\n",
              "          element.appendChild(docLink);\n",
              "        }\n",
              "      </script>\n",
              "    </div>\n",
              "  </div>\n",
              "  "
            ]
          },
          "metadata": {},
          "execution_count": 12
        }
      ]
    },
    {
      "cell_type": "markdown",
      "source": [
        "##### We could infer that the macro f1 score is low for our logistic regression model, so we will perform hyperparameter tuning for our model to check if we could improve the performance of our model"
      ],
      "metadata": {
        "id": "wydIzJypPXzn"
      }
    },
    {
      "cell_type": "code",
      "source": [
        "#Parameter Tuning for Logistic Regression Model using GridSearhCV from Sklearn\n",
        "import warnings\n",
        "warnings.filterwarnings('ignore')\n",
        "from sklearn.metrics import f1_score, make_scorer\n",
        "f1 = make_scorer(f1_score , average='macro')\n",
        "parameters = {'penalty':(\"l2\", \"l1\"), 'C':(0.1,0.01,1,10),'solver':('lbfgs','liblinear')}\n",
        "Logistic_model = LogisticRegression(max_iter=1000)\n",
        "lr_grid=GridSearchCV(Logistic_model,parameters,n_jobs=-1,scoring=f1)\n",
        "lr_grid.fit(X_train, y_train.values.ravel())\n",
        "lr_grid_predictions = lr_grid.predict(X_test)\n",
        "print(lr_grid.best_params_) "
      ],
      "metadata": {
        "colab": {
          "base_uri": "https://localhost:8080/"
        },
        "id": "tqq03q0Y-rh7",
        "outputId": "240fdea3-819a-4513-d561-d905c2647649"
      },
      "execution_count": 26,
      "outputs": [
        {
          "output_type": "stream",
          "name": "stdout",
          "text": [
            "{'C': 1, 'penalty': 'l2', 'solver': 'lbfgs'}\n"
          ]
        }
      ]
    },
    {
      "cell_type": "code",
      "source": [
        "print(classification_report(y_test, lr_grid_predictions)) "
      ],
      "metadata": {
        "colab": {
          "base_uri": "https://localhost:8080/"
        },
        "id": "lD-rvsK1-rez",
        "outputId": "67d4a55b-3357-4803-a751-c63a55f56f29"
      },
      "execution_count": 14,
      "outputs": [
        {
          "output_type": "stream",
          "name": "stdout",
          "text": [
            "              precision    recall  f1-score   support\n",
            "\n",
            "           0       1.00      1.00      1.00     28424\n",
            "           1       0.80      0.21      0.33        57\n",
            "\n",
            "    accuracy                           1.00     28481\n",
            "   macro avg       0.90      0.61      0.67     28481\n",
            "weighted avg       1.00      1.00      1.00     28481\n",
            "\n"
          ]
        }
      ]
    },
    {
      "cell_type": "markdown",
      "source": [
        "##### We observe that performing Hyperparameter Tuning, the macro avg f1 score is increased by 1 percent"
      ],
      "metadata": {
        "id": "xLK7_kQJR80d"
      }
    },
    {
      "cell_type": "code",
      "source": [
        "#Plotting Learning Curve\n",
        "def plot_learning_curve(\n",
        "    estimator,\n",
        "    title,\n",
        "    X,\n",
        "    y,\n",
        "    axes=None,\n",
        "    ylim=None,\n",
        "    cv=None,\n",
        "    n_jobs=None,\n",
        "    train_sizes=np.linspace(0.1, 1.0, 5),\n",
        "):\n",
        "\n",
        "    _, axes = plt.subplots(1, 4, figsize=(30, 5))\n",
        "\n",
        "    axes[0].set_title(title)\n",
        "    if ylim is not None:\n",
        "        axes[0].set_ylim(*ylim)\n",
        "    axes[0].set_xlabel(\"Training examples\")\n",
        "    axes[0].set_ylabel(\"Score\")\n",
        "\n",
        "    train_sizes, train_scores, test_scores, fit_times, score_times = learning_curve(\n",
        "        estimator,\n",
        "        X,\n",
        "        y,\n",
        "        cv=cv,\n",
        "        n_jobs=n_jobs,\n",
        "        train_sizes=train_sizes,\n",
        "        return_times=True,\n",
        "        scoring=\"f1_macro\",\n",
        "    )\n",
        "    #print(score_times)\n",
        "    train_scores_mean = np.mean(train_scores, axis=1)\n",
        "    train_scores_std = np.std(train_scores, axis=1)\n",
        "    test_scores_mean = np.mean(test_scores, axis=1)\n",
        "    test_scores_std = np.std(test_scores, axis=1)\n",
        "    fit_times_mean = np.mean(fit_times, axis=1)\n",
        "    fit_times_std = np.std(fit_times, axis=1)\n",
        "    score_times_mean = np.mean(score_times, axis=1)\n",
        "    score_times_std = np.std(score_times, axis=1)\n",
        "    # Plot learning curve\n",
        "    axes[0].grid()\n",
        "    axes[0].fill_between(\n",
        "        train_sizes,\n",
        "        train_scores_mean - train_scores_std,\n",
        "        train_scores_mean + train_scores_std,\n",
        "        alpha=0.1,\n",
        "        color=\"r\",\n",
        "    )\n",
        "    axes[0].fill_between(\n",
        "        train_sizes,\n",
        "        test_scores_mean - test_scores_std,\n",
        "        test_scores_mean + test_scores_std,\n",
        "        alpha=0.1,\n",
        "        color=\"g\",\n",
        "    )\n",
        "    axes[0].plot(\n",
        "        train_sizes, train_scores_mean, \"o-\", color=\"r\", label=\"Training score\"\n",
        "    )\n",
        "    axes[0].plot(\n",
        "        train_sizes, test_scores_mean, \"o-\", color=\"g\", label=\"Cross-validation score\"\n",
        "    )\n",
        "    axes[0].legend(loc=\"best\")\n",
        "\n",
        "    # Plot n_samples vs fit_times\n",
        "    axes[1].grid()\n",
        "    axes[1].plot(train_sizes, fit_times_mean, \"o-\")\n",
        "    axes[1].fill_between(\n",
        "        train_sizes,\n",
        "        fit_times_mean - fit_times_std,\n",
        "        fit_times_mean + fit_times_std,\n",
        "        alpha=0.1,\n",
        "    )\n",
        "    axes[1].set_xlabel(\"Training examples\")\n",
        "    axes[1].set_ylabel(\"fit_times\")\n",
        "    axes[1].set_title(\"Scalability of the model\")\n",
        "\n",
        "    # Plot fit_time vs score\n",
        "    fit_time_argsort = fit_times_mean.argsort()\n",
        "    fit_time_sorted = fit_times_mean[fit_time_argsort]\n",
        "    test_scores_mean_sorted = test_scores_mean[fit_time_argsort]\n",
        "    test_scores_std_sorted = test_scores_std[fit_time_argsort]\n",
        "    axes[2].grid()\n",
        "    axes[2].plot(fit_time_sorted, test_scores_mean_sorted, \"o-\")\n",
        "    axes[2].fill_between(\n",
        "        fit_time_sorted,\n",
        "        test_scores_mean_sorted - test_scores_std_sorted,\n",
        "        test_scores_mean_sorted + test_scores_std_sorted,\n",
        "        alpha=0.1,\n",
        "    )\n",
        "    axes[2].set_xlabel(\"fit_times\")\n",
        "    axes[2].set_ylabel(\"Score\")\n",
        "    axes[2].set_title(\"Performance of the model\")\n",
        "\n",
        "    # Plot score_time vs score\n",
        "    axes[3].grid()\n",
        "    axes[3].plot(train_sizes*0.2, score_times_mean, \"o-\")\n",
        "    axes[3].fill_between(\n",
        "        train_sizes*0.2,\n",
        "        score_times_mean - score_times_std,\n",
        "        score_times_mean + score_times_std,\n",
        "        alpha=0.1,\n",
        "    )\n",
        "    axes[3].set_xlabel(\"Scoring examples\")\n",
        "    axes[3].set_ylabel(\"Prediction_Timing\")\n",
        "    axes[3].set_title(\"Scoring Time\")\n",
        "    return plt"
      ],
      "metadata": {
        "id": "pPf2cTlh-rb7"
      },
      "execution_count": 28,
      "outputs": []
    },
    {
      "cell_type": "code",
      "source": [
        "#Making Learning Curves with n_jobs set to 1\n",
        "title = \"Learning Curves Logistic Regression\"\n",
        "n_jobs = 1\n",
        "train_sizes = np.linspace(0.1, 1.0, 10)\n",
        "\n",
        "estimator = LogisticRegression(max_iter=200,C=1, penalty='l2', solver= 'lbfgs')\n",
        "cv = ShuffleSplit(n_splits=10, test_size=0.2, random_state=0)\n",
        "\n",
        "plot_learning_curve(estimator, title, X_train, y_train.values.ravel(), cv=cv, n_jobs=1)\n",
        "\n",
        "plt.show()"
      ],
      "metadata": {
        "colab": {
          "base_uri": "https://localhost:8080/",
          "height": 351
        },
        "id": "6rgrTeIGQMN3",
        "outputId": "d4d3a91c-e806-4fff-c1f9-b1ac5fd4a284"
      },
      "execution_count": 17,
      "outputs": [
        {
          "output_type": "display_data",
          "data": {
            "text/plain": [
              "<Figure size 2160x360 with 4 Axes>"
            ],
            "image/png": "[encoded data removed]"
          },
          "metadata": {
            "needs_background": "light"
          }
        }
      ]
    },
    {
      "cell_type": "code",
      "source": [
        "#Making Learning Curves with n_jobs set to 4\n",
        "title = \"Learning Curves Logistic Regression\"\n",
        "n_jobs = 4\n",
        "train_sizes = np.linspace(0.1, 1.0, 10)\n",
        "\n",
        "estimator = LogisticRegression(max_iter=200,C=1, penalty='l2', solver= 'lbfgs')\n",
        "cv = ShuffleSplit(n_splits=10, test_size=0.2, random_state=0)\n",
        "\n",
        "plot_learning_curve(estimator, title, X_train, y_train.values.ravel(), cv=cv, n_jobs=4)\n",
        "\n",
        "plt.show()"
      ],
      "metadata": {
        "colab": {
          "base_uri": "https://localhost:8080/",
          "height": 351
        },
        "id": "AkJiY8415qy-",
        "outputId": "b7dbfe2d-6f5f-41cb-bb41-eb4fb10011f3"
      },
      "execution_count": 18,
      "outputs": [
        {
          "output_type": "display_data",
          "data": {
            "text/plain": [
              "<Figure size 2160x360 with 4 Axes>"
            ],
            "image/png": "[encoded data removed]"
          },
          "metadata": {
            "needs_background": "light"
          }
        }
      ]
    },
    {
      "cell_type": "markdown",
      "source": [
        "#### We could observe that training and validation score are quite similar with less variance as the training examples and fit times are increaing. We can also infer that the model has converged as pointers are getting flatter but the overall performance of this model for our dataset is quite low even after performing hyper parameter tuning."
      ],
      "metadata": {
        "id": "LmNp0Bc_k26t"
      }
    },
    {
      "cell_type": "markdown",
      "source": [
        "##### Training a Bagging Classifier Model"
      ],
      "metadata": {
        "id": "BNUWo29NQabg"
      }
    },
    {
      "cell_type": "code",
      "source": [
        "#Training a BaggingClassifier Model\n",
        "bg_model=BaggingClassifier(n_jobs=-1)\n",
        "bg_model.fit(X_train,y_train)\n",
        "bg_predicitions=bg_model.predict(X_test)\n",
        "bg_score=f1_score(bg_predicitions,y_test.values.ravel(),average=\"macro\")\n",
        "print(\"f1_score_macro:\",bg_score)\n",
        "pd.DataFrame(classification_report(y_test.values.ravel(),bg_predicitions, output_dict=True)).T"
      ],
      "metadata": {
        "colab": {
          "base_uri": "https://localhost:8080/",
          "height": 224
        },
        "id": "B9JbVa6_QMMA",
        "outputId": "47a011a1-3759-435b-a645-b3f6e9cd228f"
      },
      "execution_count": 100,
      "outputs": [
        {
          "output_type": "stream",
          "name": "stdout",
          "text": [
            "f1_score_macro: 0.8020266855517593\n"
          ]
        },
        {
          "output_type": "execute_result",
          "data": {
            "text/plain": [
              "              precision    recall  f1-score       support\n",
              "0              0.998910  0.999894  0.999402  28424.000000\n",
              "1              0.896552  0.456140  0.604651     57.000000\n",
              "accuracy       0.998806  0.998806  0.998806      0.998806\n",
              "macro avg      0.947731  0.728017  0.802027  28481.000000\n",
              "weighted avg   0.998706  0.998806  0.998612  28481.000000"
            ],
            "text/html": [
              "\n",
              "  <div id=\"df-5bdaaadb-46f5-433d-8a8a-6d6d1441177e\">\n",
              "    <div class=\"colab-df-container\">\n",
              "      <div>\n",
              "<style scoped>\n",
              "    .dataframe tbody tr th:only-of-type {\n",
              "        vertical-align: middle;\n",
              "    }\n",
              "\n",
              "    .dataframe tbody tr th {\n",
              "        vertical-align: top;\n",
              "    }\n",
              "\n",
              "    .dataframe thead th {\n",
              "        text-align: right;\n",
              "    }\n",
              "</style>\n",
              "<table border=\"1\" class=\"dataframe\">\n",
              "  <thead>\n",
              "    <tr style=\"text-align: right;\">\n",
              "      <th></th>\n",
              "      <th>precision</th>\n",
              "      <th>recall</th>\n",
              "      <th>f1-score</th>\n",
              "      <th>support</th>\n",
              "    </tr>\n",
              "  </thead>\n",
              "  <tbody>\n",
              "    <tr>\n",
              "      <th>0</th>\n",
              "      <td>0.998910</td>\n",
              "      <td>0.999894</td>\n",
              "      <td>0.999402</td>\n",
              "      <td>28424.000000</td>\n",
              "    </tr>\n",
              "    <tr>\n",
              "      <th>1</th>\n",
              "      <td>0.896552</td>\n",
              "      <td>0.456140</td>\n",
              "      <td>0.604651</td>\n",
              "      <td>57.000000</td>\n",
              "    </tr>\n",
              "    <tr>\n",
              "      <th>accuracy</th>\n",
              "      <td>0.998806</td>\n",
              "      <td>0.998806</td>\n",
              "      <td>0.998806</td>\n",
              "      <td>0.998806</td>\n",
              "    </tr>\n",
              "    <tr>\n",
              "      <th>macro avg</th>\n",
              "      <td>0.947731</td>\n",
              "      <td>0.728017</td>\n",
              "      <td>0.802027</td>\n",
              "      <td>28481.000000</td>\n",
              "    </tr>\n",
              "    <tr>\n",
              "      <th>weighted avg</th>\n",
              "      <td>0.998706</td>\n",
              "      <td>0.998806</td>\n",
              "      <td>0.998612</td>\n",
              "      <td>28481.000000</td>\n",
              "    </tr>\n",
              "  </tbody>\n",
              "</table>\n",
              "</div>\n",
              "      <button class=\"colab-df-convert\" onclick=\"convertToInteractive('df-5bdaaadb-46f5-433d-8a8a-6d6d1441177e')\"\n",
              "              title=\"Convert this dataframe to an interactive table.\"\n",
              "              style=\"display:none;\">\n",
              "        \n",
              "  <svg xmlns=\"http://www.w3.org/2000/svg\" height=\"24px\"viewBox=\"0 0 24 24\"\n",
              "       width=\"24px\">\n",
              "    <path d=\"M0 0h24v24H0V0z\" fill=\"none\"/>\n",
              "    <path d=\"M18.56 5.44l.94 2.06.94-2.06 2.06-.94-2.06-.94-.94-2.06-.94 2.06-2.06.94zm-11 1L8.5 8.5l.94-2.06 2.06-.94-2.06-.94L8.5 2.5l-.94 2.06-2.06.94zm10 10l.94 2.06.94-2.06 2.06-.94-2.06-.94-.94-2.06-.94 2.06-2.06.94z\"/><path d=\"M17.41 7.96l-1.37-1.37c-.4-.4-.92-.59-1.43-.59-.52 0-1.04.2-1.43.59L10.3 9.45l-7.72 7.72c-.78.78-.78 2.05 0 2.83L4 21.41c.39.39.9.59 1.41.59.51 0 1.02-.2 1.41-.59l7.78-7.78 2.81-2.81c.8-.78.8-2.07 0-2.86zM5.41 20L4 18.59l7.72-7.72 1.47 1.35L5.41 20z\"/>\n",
              "  </svg>\n",
              "      </button>\n",
              "      \n",
              "  <style>\n",
              "    .colab-df-container {\n",
              "      display:flex;\n",
              "      flex-wrap:wrap;\n",
              "      gap: 12px;\n",
              "    }\n",
              "\n",
              "    .colab-df-convert {\n",
              "      background-color: #E8F0FE;\n",
              "      border: none;\n",
              "      border-radius: 50%;\n",
              "      cursor: pointer;\n",
              "      display: none;\n",
              "      fill: #1967D2;\n",
              "      height: 32px;\n",
              "      padding: 0 0 0 0;\n",
              "      width: 32px;\n",
              "    }\n",
              "\n",
              "    .colab-df-convert:hover {\n",
              "      background-color: #E2EBFA;\n",
              "      box-shadow: 0px 1px 2px rgba(60, 64, 67, 0.3), 0px 1px 3px 1px rgba(60, 64, 67, 0.15);\n",
              "      fill: #174EA6;\n",
              "    }\n",
              "\n",
              "    [theme=dark] .colab-df-convert {\n",
              "      background-color: #3B4455;\n",
              "      fill: #D2E3FC;\n",
              "    }\n",
              "\n",
              "    [theme=dark] .colab-df-convert:hover {\n",
              "      background-color: #434B5C;\n",
              "      box-shadow: 0px 1px 3px 1px rgba(0, 0, 0, 0.15);\n",
              "      filter: drop-shadow(0px 1px 2px rgba(0, 0, 0, 0.3));\n",
              "      fill: #FFFFFF;\n",
              "    }\n",
              "  </style>\n",
              "\n",
              "      <script>\n",
              "        const buttonEl =\n",
              "          document.querySelector('#df-5bdaaadb-46f5-433d-8a8a-6d6d1441177e button.colab-df-convert');\n",
              "        buttonEl.style.display =\n",
              "          google.colab.kernel.accessAllowed ? 'block' : 'none';\n",
              "\n",
              "        async function convertToInteractive(key) {\n",
              "          const element = document.querySelector('#df-5bdaaadb-46f5-433d-8a8a-6d6d1441177e');\n",
              "          const dataTable =\n",
              "            await google.colab.kernel.invokeFunction('convertToInteractive',\n",
              "                                                     [key], {});\n",
              "          if (!dataTable) return;\n",
              "\n",
              "          const docLinkHtml = 'Like what you see? Visit the ' +\n",
              "            '<a target=\"_blank\" href=https://colab.research.google.com/notebooks/data_table.ipynb>data table notebook</a>'\n",
              "            + ' to learn more about interactive tables.';\n",
              "          element.innerHTML = '';\n",
              "          dataTable['output_type'] = 'display_data';\n",
              "          await google.colab.output.renderOutput(dataTable, element);\n",
              "          const docLink = document.createElement('div');\n",
              "          docLink.innerHTML = docLinkHtml;\n",
              "          element.appendChild(docLink);\n",
              "        }\n",
              "      </script>\n",
              "    </div>\n",
              "  </div>\n",
              "  "
            ]
          },
          "metadata": {},
          "execution_count": 100
        }
      ]
    },
    {
      "cell_type": "code",
      "source": [
        "#Parameter Tuning for Bagging Classifier Model using GridSearhCV from Sklearn\n",
        "import warnings\n",
        "with warnings.catch_warnings():\n",
        "    warnings.simplefilter('ignore')\n",
        "from sklearn.metrics import f1_score, make_scorer\n",
        "f1 = make_scorer(f1_score , average='macro')\n",
        "parameters = {'max_samples' : [0.05, 0.1, 0.2, 0.5]}\n",
        "bg_model=BaggingClassifier(n_jobs=-1)\n",
        "bg_grid=GridSearchCV(bg_model,parameters,n_jobs=-1,scoring=f1)\n",
        "bg_grid.fit(X_train, y_train.values.ravel())\n",
        "bg_grid_predictions = bg_grid.predict(X_test)\n",
        "print(bg_grid.best_params_)"
      ],
      "metadata": {
        "colab": {
          "base_uri": "https://localhost:8080/"
        },
        "id": "32_WiQUIQMJF",
        "outputId": "59dcaa67-05ad-4480-bb08-7c074fb2e272"
      },
      "execution_count": 39,
      "outputs": [
        {
          "output_type": "stream",
          "name": "stdout",
          "text": [
            "{'max_samples': 0.5}\n"
          ]
        }
      ]
    },
    {
      "cell_type": "code",
      "source": [
        "print(classification_report(y_test, bg_grid_predictions)) "
      ],
      "metadata": {
        "colab": {
          "base_uri": "https://localhost:8080/"
        },
        "id": "4X7h_8NPQMF0",
        "outputId": "2ed822d8-13ac-4660-f3eb-30cea9277e60"
      },
      "execution_count": 103,
      "outputs": [
        {
          "output_type": "stream",
          "name": "stdout",
          "text": [
            "              precision    recall  f1-score   support\n",
            "\n",
            "           0       1.00      1.00      1.00     28424\n",
            "           1       0.92      0.40      0.56        57\n",
            "\n",
            "    accuracy                           1.00     28481\n",
            "   macro avg       0.96      0.70      0.78     28481\n",
            "weighted avg       1.00      1.00      1.00     28481\n",
            "\n"
          ]
        }
      ]
    },
    {
      "cell_type": "code",
      "source": [
        "#Making Learning Curves for Bagging Classifier  with n_jobs set to 1\n",
        "title = \"Learning Curves Bagging Classifier\"\n",
        "train_sizes = np.linspace(0.1, 1.0, 10)\n",
        "\n",
        "estimator = BaggingClassifier(max_samples=0.5)\n",
        "cv = ShuffleSplit(n_splits=10, test_size=0.2, random_state=0)\n",
        "\n",
        "plot_learning_curve(estimator, title, X_train, y_train.values.ravel(), cv=cv, n_jobs=1)\n",
        "\n",
        "plt.show()"
      ],
      "metadata": {
        "colab": {
          "base_uri": "https://localhost:8080/",
          "height": 351
        },
        "id": "AtLmthMNQMDZ",
        "outputId": "51a748ef-1117-4acf-9411-e88bbc6cce72"
      },
      "execution_count": 30,
      "outputs": [
        {
          "output_type": "display_data",
          "data": {
            "text/plain": [
              "<Figure size 2160x360 with 4 Axes>"
            ],
            "image/png": "[encoded data removed]"
          },
          "metadata": {
            "needs_background": "light"
          }
        }
      ]
    },
    {
      "cell_type": "code",
      "source": [
        "#Making Learning Curves for Bagging Classifier  with n_jobs set to 4\n",
        "title = \"Learning Curves Bagging Classifier\"\n",
        "n_jobs = 4\n",
        "train_sizes = np.linspace(0.1, 1.0, 10)\n",
        "\n",
        "estimator = BaggingClassifier(n_jobs=-1,max_samples=0.5)\n",
        "cv = ShuffleSplit(n_splits=10, test_size=0.2, random_state=0)\n",
        "\n",
        "plot_learning_curve(estimator, title, X_train, y_train.values.ravel(), cv=cv, n_jobs=4)\n",
        "\n",
        "plt.show()"
      ],
      "metadata": {
        "colab": {
          "base_uri": "https://localhost:8080/",
          "height": 351
        },
        "id": "wQGTiwg75zMs",
        "outputId": "7bc643a8-27d0-43bf-c558-a5a453b652a8"
      },
      "execution_count": 31,
      "outputs": [
        {
          "output_type": "display_data",
          "data": {
            "text/plain": [
              "<Figure size 2160x360 with 4 Axes>"
            ],
            "image/png": "[encoded data removed]"
          },
          "metadata": {
            "needs_background": "light"
          }
        }
      ]
    },
    {
      "cell_type": "markdown",
      "source": [
        "#### We could observe that this model could be prone to overfitting as there is a significant difference in training and cross validation, and we are also inferring a glimpse of model converging as the cross validation score is getting flatter as we number of examples and fit times are increasing."
      ],
      "metadata": {
        "id": "HtCwnfU6j4f2"
      }
    },
    {
      "cell_type": "code",
      "source": [
        "#Training Adaboost Classification Model\n",
        "ada_model=AdaBoostClassifier(n_estimators=100, random_state=0)\n",
        "ada_model.fit(X_train,y_train)\n",
        "ada_predictions=ada_model.predict(X_test)\n",
        "ada_model_score=f1_score(ada_predictions,y_test,average=\"macro\")\n",
        "print(\"f1_score_macro:\",ada_model_score)\n",
        "pd.DataFrame(classification_report(y_test,ada_predictions, output_dict=True)).T"
      ],
      "metadata": {
        "colab": {
          "base_uri": "https://localhost:8080/",
          "height": 224
        },
        "id": "ruSZdISdQMBY",
        "outputId": "60c6dc04-c01d-48fd-fdcf-0e2eeaa5b7a7"
      },
      "execution_count": 42,
      "outputs": [
        {
          "output_type": "stream",
          "name": "stdout",
          "text": [
            "f1_score_macro: 0.7580489310205648\n"
          ]
        },
        {
          "output_type": "execute_result",
          "data": {
            "text/plain": [
              "              precision    recall  f1-score      support\n",
              "0              0.998805  0.999683  0.999244  28424.00000\n",
              "1              0.718750  0.403509  0.516854     57.00000\n",
              "accuracy       0.998490  0.998490  0.998490      0.99849\n",
              "macro avg      0.858777  0.701596  0.758049  28481.00000\n",
              "weighted avg   0.998244  0.998490  0.998279  28481.00000"
            ],
            "text/html": [
              "\n",
              "  <div id=\"df-4ca9708b-1bf2-4ff6-851d-08cc17364076\">\n",
              "    <div class=\"colab-df-container\">\n",
              "      <div>\n",
              "<style scoped>\n",
              "    .dataframe tbody tr th:only-of-type {\n",
              "        vertical-align: middle;\n",
              "    }\n",
              "\n",
              "    .dataframe tbody tr th {\n",
              "        vertical-align: top;\n",
              "    }\n",
              "\n",
              "    .dataframe thead th {\n",
              "        text-align: right;\n",
              "    }\n",
              "</style>\n",
              "<table border=\"1\" class=\"dataframe\">\n",
              "  <thead>\n",
              "    <tr style=\"text-align: right;\">\n",
              "      <th></th>\n",
              "      <th>precision</th>\n",
              "      <th>recall</th>\n",
              "      <th>f1-score</th>\n",
              "      <th>support</th>\n",
              "    </tr>\n",
              "  </thead>\n",
              "  <tbody>\n",
              "    <tr>\n",
              "      <th>0</th>\n",
              "      <td>0.998805</td>\n",
              "      <td>0.999683</td>\n",
              "      <td>0.999244</td>\n",
              "      <td>28424.00000</td>\n",
              "    </tr>\n",
              "    <tr>\n",
              "      <th>1</th>\n",
              "      <td>0.718750</td>\n",
              "      <td>0.403509</td>\n",
              "      <td>0.516854</td>\n",
              "      <td>57.00000</td>\n",
              "    </tr>\n",
              "    <tr>\n",
              "      <th>accuracy</th>\n",
              "      <td>0.998490</td>\n",
              "      <td>0.998490</td>\n",
              "      <td>0.998490</td>\n",
              "      <td>0.99849</td>\n",
              "    </tr>\n",
              "    <tr>\n",
              "      <th>macro avg</th>\n",
              "      <td>0.858777</td>\n",
              "      <td>0.701596</td>\n",
              "      <td>0.758049</td>\n",
              "      <td>28481.00000</td>\n",
              "    </tr>\n",
              "    <tr>\n",
              "      <th>weighted avg</th>\n",
              "      <td>0.998244</td>\n",
              "      <td>0.998490</td>\n",
              "      <td>0.998279</td>\n",
              "      <td>28481.00000</td>\n",
              "    </tr>\n",
              "  </tbody>\n",
              "</table>\n",
              "</div>\n",
              "      <button class=\"colab-df-convert\" onclick=\"convertToInteractive('df-4ca9708b-1bf2-4ff6-851d-08cc17364076')\"\n",
              "              title=\"Convert this dataframe to an interactive table.\"\n",
              "              style=\"display:none;\">\n",
              "        \n",
              "  <svg xmlns=\"http://www.w3.org/2000/svg\" height=\"24px\"viewBox=\"0 0 24 24\"\n",
              "       width=\"24px\">\n",
              "    <path d=\"M0 0h24v24H0V0z\" fill=\"none\"/>\n",
              "    <path d=\"M18.56 5.44l.94 2.06.94-2.06 2.06-.94-2.06-.94-.94-2.06-.94 2.06-2.06.94zm-11 1L8.5 8.5l.94-2.06 2.06-.94-2.06-.94L8.5 2.5l-.94 2.06-2.06.94zm10 10l.94 2.06.94-2.06 2.06-.94-2.06-.94-.94-2.06-.94 2.06-2.06.94z\"/><path d=\"M17.41 7.96l-1.37-1.37c-.4-.4-.92-.59-1.43-.59-.52 0-1.04.2-1.43.59L10.3 9.45l-7.72 7.72c-.78.78-.78 2.05 0 2.83L4 21.41c.39.39.9.59 1.41.59.51 0 1.02-.2 1.41-.59l7.78-7.78 2.81-2.81c.8-.78.8-2.07 0-2.86zM5.41 20L4 18.59l7.72-7.72 1.47 1.35L5.41 20z\"/>\n",
              "  </svg>\n",
              "      </button>\n",
              "      \n",
              "  <style>\n",
              "    .colab-df-container {\n",
              "      display:flex;\n",
              "      flex-wrap:wrap;\n",
              "      gap: 12px;\n",
              "    }\n",
              "\n",
              "    .colab-df-convert {\n",
              "      background-color: #E8F0FE;\n",
              "      border: none;\n",
              "      border-radius: 50%;\n",
              "      cursor: pointer;\n",
              "      display: none;\n",
              "      fill: #1967D2;\n",
              "      height: 32px;\n",
              "      padding: 0 0 0 0;\n",
              "      width: 32px;\n",
              "    }\n",
              "\n",
              "    .colab-df-convert:hover {\n",
              "      background-color: #E2EBFA;\n",
              "      box-shadow: 0px 1px 2px rgba(60, 64, 67, 0.3), 0px 1px 3px 1px rgba(60, 64, 67, 0.15);\n",
              "      fill: #174EA6;\n",
              "    }\n",
              "\n",
              "    [theme=dark] .colab-df-convert {\n",
              "      background-color: #3B4455;\n",
              "      fill: #D2E3FC;\n",
              "    }\n",
              "\n",
              "    [theme=dark] .colab-df-convert:hover {\n",
              "      background-color: #434B5C;\n",
              "      box-shadow: 0px 1px 3px 1px rgba(0, 0, 0, 0.15);\n",
              "      filter: drop-shadow(0px 1px 2px rgba(0, 0, 0, 0.3));\n",
              "      fill: #FFFFFF;\n",
              "    }\n",
              "  </style>\n",
              "\n",
              "      <script>\n",
              "        const buttonEl =\n",
              "          document.querySelector('#df-4ca9708b-1bf2-4ff6-851d-08cc17364076 button.colab-df-convert');\n",
              "        buttonEl.style.display =\n",
              "          google.colab.kernel.accessAllowed ? 'block' : 'none';\n",
              "\n",
              "        async function convertToInteractive(key) {\n",
              "          const element = document.querySelector('#df-4ca9708b-1bf2-4ff6-851d-08cc17364076');\n",
              "          const dataTable =\n",
              "            await google.colab.kernel.invokeFunction('convertToInteractive',\n",
              "                                                     [key], {});\n",
              "          if (!dataTable) return;\n",
              "\n",
              "          const docLinkHtml = 'Like what you see? Visit the ' +\n",
              "            '<a target=\"_blank\" href=https://colab.research.google.com/notebooks/data_table.ipynb>data table notebook</a>'\n",
              "            + ' to learn more about interactive tables.';\n",
              "          element.innerHTML = '';\n",
              "          dataTable['output_type'] = 'display_data';\n",
              "          await google.colab.output.renderOutput(dataTable, element);\n",
              "          const docLink = document.createElement('div');\n",
              "          docLink.innerHTML = docLinkHtml;\n",
              "          element.appendChild(docLink);\n",
              "        }\n",
              "      </script>\n",
              "    </div>\n",
              "  </div>\n",
              "  "
            ]
          },
          "metadata": {},
          "execution_count": 42
        }
      ]
    },
    {
      "cell_type": "code",
      "source": [
        "#Plotting learning curve for adaboost classifier\n",
        "train_sizes, train_scores, test_scores = learning_curve(estimator=AdaBoostClassifier(n_estimators=100, random_state=0), X=X_train, y=y_train.values.ravel(),\n",
        "                                                       cv=10, train_sizes=np.linspace(0.1, 1.0, 10),\n",
        "                                                     n_jobs=4)\n",
        "train_mean = np.mean(train_scores, axis=1)\n",
        "train_std = np.std(train_scores, axis=1)\n",
        "test_mean = np.mean(test_scores, axis=1)\n",
        "test_std = np.std(test_scores, axis=1)\n",
        "#\n",
        "# Plot the learning curve\n",
        "#\n",
        "plt.plot(train_sizes, train_mean, color='blue', marker='o', markersize=5, label='Training Accuracy')\n",
        "plt.fill_between(train_sizes, train_mean + train_std, train_mean - train_std, alpha=0.15, color='blue')\n",
        "plt.plot(train_sizes, test_mean, color='green', marker='+', markersize=5, linestyle='--', label='Validation Accuracy')\n",
        "plt.fill_between(train_sizes, test_mean + test_std, test_mean - test_std, alpha=0.15, color='green')\n",
        "plt.title('Learning Curve')\n",
        "plt.xlabel('Training Data Size')\n",
        "plt.ylabel('Model accuracy')\n",
        "plt.grid()\n",
        "plt.legend(loc='lower right')\n",
        "plt.show()"
      ],
      "metadata": {
        "id": "6acfCXkNoek4"
      },
      "execution_count": null,
      "outputs": []
    },
    {
      "cell_type": "code",
      "source": [],
      "metadata": {
        "id": "NQLKfooiVBc5"
      },
      "execution_count": null,
      "outputs": []
    },
    {
      "cell_type": "markdown",
      "source": [
        "### Task 3.\n",
        "#### a.) Analyze the bias and variance of the models\n",
        "Variance: Captures how much your classifier changes if you train on a\n",
        "different training set.\n",
        "Bias: What is the inherent error that you obtain from your classifier even\n",
        "with infinite training data? This is due to your classifier being \"biased\" to a\n",
        "particular kind of solution."
      ],
      "metadata": {
        "id": "I7Ofg4h3dCmx"
      }
    },
    {
      "cell_type": "markdown",
      "source": [
        "#### Bias and Variance of Logistic Regression"
      ],
      "metadata": {
        "id": "kdWrcXmkdrNb"
      }
    },
    {
      "cell_type": "code",
      "source": [
        "from sklearn.metrics import mean_squared_error"
      ],
      "metadata": {
        "id": "g39p1Jwgo_EG"
      },
      "execution_count": 35,
      "outputs": []
    },
    {
      "cell_type": "code",
      "source": [
        "er = []\n",
        "y_test = np.array(y_test)\n",
        "y_test.T\n",
        "for i in range(len(y_test)):\n",
        "    x = (y_test[i] - lr_grid_predictions[i]) **2\n",
        "    er.append(x)\n",
        "variance_value = np.var(er)\n",
        "print(\"BIAS AND VARIANCE FOR LOGISTIC REGRESSION\")\n",
        "print(\"Variance\",variance_value)\n",
        "print(\"Bias:\", mean_squared_error(y_test,lr_grid_predictions))"
      ],
      "metadata": {
        "colab": {
          "base_uri": "https://localhost:8080/"
        },
        "id": "47_KFRFIVBaT",
        "outputId": "3435b271-19f4-4726-db7b-95668cac8822"
      },
      "execution_count": 36,
      "outputs": [
        {
          "output_type": "stream",
          "name": "stdout",
          "text": [
            "BIAS AND VARIANCE FOR LOGISTIC REGRESSION\n",
            "Variance 0.0016824937314015033\n",
            "Bias: 0.0016853340823707033\n"
          ]
        }
      ]
    },
    {
      "cell_type": "markdown",
      "source": [
        "#### Bias and Variance of BaggingClassifier"
      ],
      "metadata": {
        "id": "Us_hYSvqdzLM"
      }
    },
    {
      "cell_type": "code",
      "source": [
        "er = []\n",
        "y_test = np.array(y_test)\n",
        "y_test.T\n",
        "for i in range(len(y_test)):\n",
        "    x = (y_test[i] - bg_grid_predictions[i]) **2\n",
        "    er.append(x)\n",
        "variance_value = np.var(er)\n",
        "print(\"BIAS AND VARIANCE FOR BAGGING CLASSIFIER\")\n",
        "print(\"Variance\",variance_value)\n",
        "print(\"Bias:\", mean_squared_error(y_test,bg_grid_predictions))"
      ],
      "metadata": {
        "colab": {
          "base_uri": "https://localhost:8080/"
        },
        "id": "ywLwVEKlVBX0",
        "outputId": "0e4b79ac-0862-49be-b7ad-5eff7a3c2546"
      },
      "execution_count": 43,
      "outputs": [
        {
          "output_type": "stream",
          "name": "stdout",
          "text": [
            "BIAS AND VARIANCE FOR BAGGING CLASSIFIER\n",
            "Variance 0.0011573246719920726\n",
            "Bias: 0.0011586671816298584\n"
          ]
        }
      ]
    },
    {
      "cell_type": "markdown",
      "source": [
        "#### Bias and Variance of Boosting Model: Adapative Boosting"
      ],
      "metadata": {
        "id": "fYgBc6bqd6qF"
      }
    },
    {
      "cell_type": "code",
      "source": [
        "er = []\n",
        "y_test = np.array(y_test)\n",
        "y_test.T\n",
        "for i in range(len(y_test)):\n",
        "    x = (y_test[i] - ada_predictions[i]) **2\n",
        "    er.append(x)\n",
        "variance_value = np.var(er)\n",
        "print(\"BIAS AND VARIANCE FOR ADAPTIVE BOOSTING\")\n",
        "print(\"Variance\",variance_value)\n",
        "print(\"Bias:\", mean_squared_error(y_test,ada_predictions))"
      ],
      "metadata": {
        "colab": {
          "base_uri": "https://localhost:8080/"
        },
        "id": "iWkI7J3Jd8os",
        "outputId": "c56cfbff-ccbe-47b0-9ba2-a67199df9151"
      },
      "execution_count": 44,
      "outputs": [
        {
          "output_type": "stream",
          "name": "stdout",
          "text": [
            "BIAS AND VARIANCE FOR ADAPTIVE BOOSTING\n",
            "Variance 0.0015074990178259894\n",
            "Bias: 0.0015097784487904217\n"
          ]
        }
      ]
    },
    {
      "cell_type": "markdown",
      "source": [
        "##### From the above analysis it clear that the Bagging Classifier model is having the less bias value of 0.0012288894350619712 and the best variance value 0.001227379265818365 as compared to all other model's Bias values. As Bagging Classifier model is having the less baised data and the variance is not too high we can prefer this model for fraud detection. However, by doing the hyperparameter tuning, sampling and increasing the data preprocessing Adapative Boosting model can be used for fraud detection."
      ],
      "metadata": {
        "id": "-kGQfanVeEiz"
      }
    },
    {
      "cell_type": "markdown",
      "source": [
        "B.) Analyze the impact of the models on imbalance classification\n",
        "Imbalance classification is a classification where some classes have more\n",
        "data points than others.\n",
        "Answer the following question:\n",
        "● What model can handle the imbalance classification better?"
      ],
      "metadata": {
        "id": "p7mnjRYHeNIP"
      }
    },
    {
      "cell_type": "markdown",
      "source": [
        "#### Adapative Boosting model is preferable to handle the imbalance classification. As the Adapative Boosting model provides highly accurate prediction rule by combining many weak learners and accurate rules, from above predictions the accuracy of this model is also good at 76%. Though bagging classifier model is having the good accuracy of 78%, but this model will not consider the skewed class distribution for imbalanced classification datasets. and also to counter the issue of imbalanced data, we are using f1 macro scorer which weights our metric towards the smallest one, which helped us to correctly classify the classes irrespective of the class distrbution. We could also implement sampling algorithms along with this scorer method to check if the model performance is improved or not."
      ],
      "metadata": {
        "id": "jzMRQp2Uet8W"
      }
    },
    {
      "cell_type": "markdown",
      "source": [
        "#### C.) Analyze the running time for inference and training of each model.\n",
        "Using the code provided in the case-study tutorial measure and visualize\n",
        "the running time of training and testing of the models\n",
        "● Which model is the fastest with one worker thread?\n",
        "● Which model is the fastest with 4 worker threads (use the n_jobs\n",
        "parameter of an estimator)?"
      ],
      "metadata": {
        "id": "Ymr4wVWbgvkx"
      }
    },
    {
      "cell_type": "markdown",
      "source": [
        "![picture](https://drive.google.com/uc?id=1rbDHSPSPRTvwVvm9bdYKJwCIy1M8fS5J)\n",
        "![picture](https://drive.google.com/uc?id=12MHs01nek-NeYncqlTSXuFJp8uJewChM)\n",
        " #### We infer from the learning curves - scalablity and scoring time panels that for n_jobs set to 1 instead of 4, the processing takes place faster for both Logistic Regression and bagging classifier models. Reason for these could be that our data is not very high dimensional and we havent reached the threshold at which parallel processing works better than single core processing. We also observe that Bagging Classifier takes the highest training time which is expected but scoring time is somewhat comparable for all 3 models and the scalablity for these models are almost linear. We could also see the downward trend for prediction when n_jobs set to 4, where when we cross a certain size of sample, then the parallelization is helping to overcome the performance of single core"
      ],
      "metadata": {
        "id": "QbaLBVA1hM1F"
      }
    },
    {
      "cell_type": "markdown",
      "metadata": {
        "id": "YPgT8O5FV-uZ"
      },
      "source": [
        "### References:\n",
        "\n",
        "1. https://medium.com/ibm-data-science-experience/markdown-for-jupyter-notebooks-cheatsheet-386c05aeebed\n",
        "2. https://scikit-learn.org/stable/index.html\n",
        "3. https://scikit-learn.org/stable/modules/generated/sklearn.decomposition.PCA.html\n",
        "4. https://seaborn.pydata.org/"
      ]
    }
  ]
}